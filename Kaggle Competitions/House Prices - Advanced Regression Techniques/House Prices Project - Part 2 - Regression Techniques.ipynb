{
 "cells": [
  {
   "cell_type": "markdown",
   "metadata": {},
   "source": [
    "<h1>House Prices Project - Part 2: Regression Techniques</h1>"
   ]
  },
  {
   "cell_type": "markdown",
   "metadata": {},
   "source": [
    "This code got me into the top 12% on this competition."
   ]
  },
  {
   "cell_type": "markdown",
   "metadata": {},
   "source": [
    "<h2>Loads the libraries and the datasets</h2>"
   ]
  },
  {
   "cell_type": "code",
   "execution_count": 1,
   "metadata": {},
   "outputs": [],
   "source": [
    "import numpy as np\n",
    "import pandas as pd\n",
    "from multiprocessing import cpu_count\n",
    "\n",
    "from lightgbm import LGBMRegressor\n",
    "from mlxtend.regressor import StackingCVRegressor\n",
    "from sklearn import preprocessing\n",
    "from sklearn.ensemble import ExtraTreesRegressor\n",
    "from sklearn.ensemble import GradientBoostingRegressor\n",
    "from sklearn.ensemble import RandomForestRegressor\n",
    "from sklearn.kernel_ridge import KernelRidge\n",
    "from sklearn.metrics import mean_squared_error\n",
    "from sklearn.model_selection import KFold, GridSearchCV, RandomizedSearchCV \n",
    "from sklearn.model_selection import train_test_split\n",
    "from sklearn.linear_model import BayesianRidge\n",
    "from sklearn.linear_model import ElasticNet, ElasticNetCV\n",
    "from sklearn.linear_model import Lasso, LassoCV\n",
    "from sklearn.linear_model import LinearRegression\n",
    "from sklearn.linear_model import Ridge, RidgeCV\n",
    "from sklearn.preprocessing import RobustScaler\n",
    "from sklearn.svm import SVR\n",
    "from sklearn.tree import DecisionTreeRegressor\n",
    "from vecstack import stacking\n",
    "from xgboost import XGBRegressor"
   ]
  },
  {
   "cell_type": "code",
   "execution_count": 2,
   "metadata": {},
   "outputs": [
    {
     "data": {
      "text/plain": [
       "(2919, 349)"
      ]
     },
     "execution_count": 2,
     "metadata": {},
     "output_type": "execute_result"
    }
   ],
   "source": [
    "train = pd.read_csv('train_mod.csv')\n",
    "test = pd.read_csv('test_mod.csv')\n",
    "train['dataset'] = 'train'\n",
    "test['dataset'] = 'test'\n",
    "dataset = pd.concat([train, test], ignore_index = True)\n",
    "dataset['MSSubClass'] = dataset['MSSubClass'].astype(str)\n",
    "dataset['MoSold'] = dataset['MoSold'].astype(str)\n",
    "dataset['OverallQual'] = dataset['OverallQual'].astype(int)\n",
    "dataset = pd.get_dummies(dataset)\n",
    "dataset.shape"
   ]
  },
  {
   "cell_type": "code",
   "execution_count": 3,
   "metadata": {},
   "outputs": [],
   "source": [
    "train = dataset[dataset['dataset_train'] == 1].drop(['dataset_train', 'dataset_test'], axis = 1)\n",
    "test = dataset[dataset['dataset_test'] == 1].drop(['dataset_train', 'dataset_test'], axis = 1)"
   ]
  },
  {
   "cell_type": "code",
   "execution_count": 4,
   "metadata": {},
   "outputs": [],
   "source": [
    "X_train, y_train = train.drop(['SalePrice', 'SalePriceLog'], axis = 1), train['SalePriceLog']\n",
    "X_test = test.drop(['SalePrice', 'SalePriceLog'], axis = 1)"
   ]
  },
  {
   "cell_type": "code",
   "execution_count": 5,
   "metadata": {},
   "outputs": [],
   "source": [
    "scaler = preprocessing.RobustScaler().fit(X_train)\n",
    "X_train_transformed = scaler.transform(X_train)\n",
    "X_test_transformed = scaler.transform(X_test)"
   ]
  },
  {
   "cell_type": "code",
   "execution_count": 6,
   "metadata": {},
   "outputs": [],
   "source": [
    "kfolds = KFold(n_splits=10, shuffle=True, random_state=2099)"
   ]
  },
  {
   "cell_type": "markdown",
   "metadata": {},
   "source": [
    "<h2>Ridge Regression</h2>"
   ]
  },
  {
   "cell_type": "code",
   "execution_count": 7,
   "metadata": {},
   "outputs": [
    {
     "name": "stdout",
     "output_type": "stream",
     "text": [
      "Fitting 10 folds for each of 11 candidates, totalling 110 fits\n"
     ]
    },
    {
     "name": "stderr",
     "output_type": "stream",
     "text": [
      "[Parallel(n_jobs=3)]: Using backend LokyBackend with 3 concurrent workers.\n",
      "[Parallel(n_jobs=3)]: Done  47 tasks      | elapsed:    3.3s\n"
     ]
    },
    {
     "name": "stdout",
     "output_type": "stream",
     "text": [
      "{'alpha': 14.5, 'random_state': 2099}\n",
      "-0.11719575585556738\n"
     ]
    },
    {
     "name": "stderr",
     "output_type": "stream",
     "text": [
      "[Parallel(n_jobs=3)]: Done 110 out of 110 | elapsed:    4.3s finished\n"
     ]
    }
   ],
   "source": [
    "# define the grid search parameters\n",
    "parameters = {\n",
    "    'alpha': [14.5, 14.6, 14.7, 14.8, 14.9, 15, 15.1, 15.2, 15.3, 15.4, 15.5],\n",
    "    'random_state': [2099]\n",
    "}\n",
    "\n",
    "Ridge_reg = GridSearchCV(Ridge(), parameters, scoring='neg_root_mean_squared_error',cv = kfolds, verbose = 2, n_jobs = 3)\n",
    "Ridge_reg.fit(X_train_transformed, y_train)\n",
    "print(Ridge_reg.best_params_)\n",
    "print(Ridge_reg.best_score_)"
   ]
  },
  {
   "cell_type": "code",
   "execution_count": 8,
   "metadata": {},
   "outputs": [],
   "source": [
    "ridge = Ridge(alpha = 14.5, max_iter = 1e7, random_state = 2099)"
   ]
  },
  {
   "cell_type": "markdown",
   "metadata": {},
   "source": [
    "<h2>Lasso</h2>"
   ]
  },
  {
   "cell_type": "code",
   "execution_count": 9,
   "metadata": {},
   "outputs": [
    {
     "name": "stdout",
     "output_type": "stream",
     "text": [
      "Fitting 10 folds for each of 8 candidates, totalling 80 fits\n"
     ]
    },
    {
     "name": "stderr",
     "output_type": "stream",
     "text": [
      "[Parallel(n_jobs=3)]: Using backend LokyBackend with 3 concurrent workers.\n",
      "[Parallel(n_jobs=3)]: Done  35 tasks      | elapsed:   19.3s\n",
      "[Parallel(n_jobs=3)]: Done  80 out of  80 | elapsed:   32.7s finished\n"
     ]
    },
    {
     "name": "stdout",
     "output_type": "stream",
     "text": [
      "{'alpha': 0.0004, 'max_iter': 2099, 'random_state': 2099, 'selection': 'random'}\n"
     ]
    }
   ],
   "source": [
    "# define the grid search parameters\n",
    "parameters = {\n",
    "    'max_iter': [2099],\n",
    "    'alpha': [1e-4, 2e-4, 3e-4, 4e-4, 5e-4, 6e-4, 7e-4, 8e-4],\n",
    "    'selection': ['random'],\n",
    "    'random_state': [2099]\n",
    "}\n",
    "\n",
    "Lasso_reg = GridSearchCV(Lasso(), parameters, scoring='neg_root_mean_squared_error',cv = kfolds, verbose = 2, n_jobs = 3)\n",
    "Lasso_reg.fit(X_train_transformed, y_train)\n",
    "print(Lasso_reg.best_params_)"
   ]
  },
  {
   "cell_type": "code",
   "execution_count": 10,
   "metadata": {},
   "outputs": [],
   "source": [
    "lasso = Lasso(alpha = 4e-4, max_iter = 1e7, random_state = 2099, selection = 'random')"
   ]
  },
  {
   "cell_type": "markdown",
   "metadata": {},
   "source": [
    "<h2>Elastic Net K-fold Cross-Validation</h2>"
   ]
  },
  {
   "cell_type": "code",
   "execution_count": 11,
   "metadata": {},
   "outputs": [
    {
     "name": "stdout",
     "output_type": "stream",
     "text": [
      "Fitting 10 folds for each of 25 candidates, totalling 250 fits\n"
     ]
    },
    {
     "name": "stderr",
     "output_type": "stream",
     "text": [
      "[Parallel(n_jobs=3)]: Using backend LokyBackend with 3 concurrent workers.\n",
      "[Parallel(n_jobs=3)]: Done  35 tasks      | elapsed:   23.8s\n",
      "[Parallel(n_jobs=3)]: Done 156 tasks      | elapsed:  1.4min\n",
      "[Parallel(n_jobs=3)]: Done 250 out of 250 | elapsed:  2.0min finished\n"
     ]
    },
    {
     "name": "stdout",
     "output_type": "stream",
     "text": [
      "{'alpha': 0.0006, 'l1_ratio': 0.58, 'max_iter': 10000000.0, 'random_state': 2099, 'selection': 'random'}\n"
     ]
    }
   ],
   "source": [
    "# define the grid search parameters\n",
    "parameters = {\n",
    "    'alpha': [4e-4, 5e-4, 6e-4, 7e-4, 8e-4],\n",
    "    'l1_ratio': [0.55, 0.57, 0.58, 0.59, 0.6],\n",
    "    'max_iter': [1e7],\n",
    "    'selection': ['random'],\n",
    "    'random_state': [2099]\n",
    "}\n",
    "\n",
    "ElasticNet_reg = GridSearchCV(ElasticNet(), parameters, scoring = 'neg_root_mean_squared_error', cv = kfolds, verbose = 2, n_jobs = 3)\n",
    "ElasticNet_reg.fit(X_train_transformed, y_train)\n",
    "print(ElasticNet_reg.best_params_)"
   ]
  },
  {
   "cell_type": "code",
   "execution_count": 12,
   "metadata": {},
   "outputs": [],
   "source": [
    "eNet = ElasticNet(alpha = 6e-4, max_iter=1e7, l1_ratio = 0.58, random_state = 2099, selection = 'random')"
   ]
  },
  {
   "cell_type": "markdown",
   "metadata": {},
   "source": [
    "<h2>Support Vector Regression</h2>"
   ]
  },
  {
   "cell_type": "code",
   "execution_count": 13,
   "metadata": {},
   "outputs": [
    {
     "name": "stdout",
     "output_type": "stream",
     "text": [
      "Fitting 10 folds for each of 9 candidates, totalling 90 fits\n"
     ]
    },
    {
     "name": "stderr",
     "output_type": "stream",
     "text": [
      "[Parallel(n_jobs=3)]: Using backend LokyBackend with 3 concurrent workers.\n",
      "[Parallel(n_jobs=3)]: Done  35 tasks      | elapsed:   19.0s\n",
      "[Parallel(n_jobs=3)]: Done  90 out of  90 | elapsed:   47.1s finished\n"
     ]
    },
    {
     "name": "stdout",
     "output_type": "stream",
     "text": [
      "{'C': 20, 'epsilon': 0.01, 'gamma': 0.0003}\n"
     ]
    }
   ],
   "source": [
    "# define the grid search parameters\n",
    "parameters = {\n",
    "    'C': [20],\n",
    "    'epsilon': [5e-3, 8e-3, 1e-2],\n",
    "    'gamma': [1e-4, 3e-4, 5e-4]\n",
    "}\n",
    "\n",
    "svr_reg = GridSearchCV(SVR(), parameters, scoring = 'neg_root_mean_squared_error', cv = kfolds, verbose = 2, n_jobs = 3)\n",
    "svr_reg.fit(X_train_transformed, y_train)\n",
    "print(svr_reg.best_params_)"
   ]
  },
  {
   "cell_type": "code",
   "execution_count": 14,
   "metadata": {},
   "outputs": [],
   "source": [
    "svr = SVR(C = 20, epsilon = 0.01, gamma = 3e-4)"
   ]
  },
  {
   "cell_type": "markdown",
   "metadata": {},
   "source": [
    "<h2>Bayesian Ridge</h2>"
   ]
  },
  {
   "cell_type": "code",
   "execution_count": 15,
   "metadata": {},
   "outputs": [
    {
     "name": "stdout",
     "output_type": "stream",
     "text": [
      "Fitting 10 folds for each of 144 candidates, totalling 1440 fits\n"
     ]
    },
    {
     "name": "stderr",
     "output_type": "stream",
     "text": [
      "[Parallel(n_jobs=3)]: Using backend LokyBackend with 3 concurrent workers.\n",
      "[Parallel(n_jobs=3)]: Done  35 tasks      | elapsed:    3.9s\n",
      "[Parallel(n_jobs=3)]: Done 156 tasks      | elapsed:   16.2s\n",
      "[Parallel(n_jobs=3)]: Done 359 tasks      | elapsed:   37.0s\n",
      "[Parallel(n_jobs=3)]: Done 642 tasks      | elapsed:  1.1min\n",
      "[Parallel(n_jobs=3)]: Done 1007 tasks      | elapsed:  1.7min\n",
      "[Parallel(n_jobs=3)]: Done 1440 out of 1440 | elapsed:  2.4min finished\n"
     ]
    },
    {
     "name": "stdout",
     "output_type": "stream",
     "text": [
      "{'alpha_1': 3e-09, 'alpha_2': 5, 'lambda_1': 5.9, 'lambda_2': 0.1}\n"
     ]
    }
   ],
   "source": [
    "# define the grid search parameters\n",
    "parameters = {\n",
    "    'alpha_1': [7e-10, 9e-10, 2e-9, 3e-9],\n",
    "    'lambda_1': [5.9, 6, 6.1, 6.2],\n",
    "    'alpha_2': [4.8, 5, 5.2],\n",
    "    'lambda_2': [7e-2, 1e-1, 5e-1]\n",
    "}\n",
    "\n",
    "bayesianridge_reg = GridSearchCV(BayesianRidge(), parameters, scoring = 'neg_root_mean_squared_error', cv = kfolds, verbose = 2, n_jobs = 3)\n",
    "bayesianridge_reg.fit(X_train_transformed, y_train)\n",
    "print(bayesianridge_reg.best_params_)"
   ]
  },
  {
   "cell_type": "code",
   "execution_count": 16,
   "metadata": {},
   "outputs": [],
   "source": [
    "bayesianridge = BayesianRidge(alpha_1 = 3e-9, alpha_2 = 5, lambda_1 = 5.9, lambda_2 = 0.1)"
   ]
  },
  {
   "cell_type": "markdown",
   "metadata": {},
   "source": [
    "<h2>Tree</h2>"
   ]
  },
  {
   "cell_type": "code",
   "execution_count": 17,
   "metadata": {},
   "outputs": [
    {
     "name": "stdout",
     "output_type": "stream",
     "text": [
      "Fitting 10 folds for each of 150 candidates, totalling 1500 fits\n"
     ]
    },
    {
     "name": "stderr",
     "output_type": "stream",
     "text": [
      "[Parallel(n_jobs=3)]: Using backend LokyBackend with 3 concurrent workers.\n",
      "[Parallel(n_jobs=3)]: Done 178 tasks      | elapsed:    1.6s\n",
      "[Parallel(n_jobs=3)]: Done 1146 tasks      | elapsed:   15.8s\n"
     ]
    },
    {
     "name": "stdout",
     "output_type": "stream",
     "text": [
      "{'max_depth': 18, 'max_features': 'auto', 'min_samples_split': 33, 'random_state': 2099, 'splitter': 'best'}\n"
     ]
    },
    {
     "name": "stderr",
     "output_type": "stream",
     "text": [
      "[Parallel(n_jobs=3)]: Done 1500 out of 1500 | elapsed:   21.4s finished\n"
     ]
    }
   ],
   "source": [
    "# define the grid search parameters\n",
    "parameters = {\n",
    "    'splitter': ['best', 'random'],\n",
    "    'max_depth': [16, 17, 18, 19, 20],\n",
    "    'min_samples_split': [30, 31, 32, 33, 34],\n",
    "    'max_features': ['sqrt', 'log2', 'auto'],\n",
    "    'random_state': [2099]\n",
    "}\n",
    "\n",
    "tree_reg = GridSearchCV(DecisionTreeRegressor(), parameters, scoring = 'neg_root_mean_squared_error', cv = kfolds, verbose = 2, n_jobs = 3)\n",
    "tree_reg.fit(X_train_transformed, y_train)\n",
    "print(tree_reg.best_params_)"
   ]
  },
  {
   "cell_type": "code",
   "execution_count": 18,
   "metadata": {},
   "outputs": [],
   "source": [
    "tree = DecisionTreeRegressor(max_depth = 18, max_features = 'auto', min_samples_split = 33, random_state = 2099, splitter = 'best')"
   ]
  },
  {
   "cell_type": "markdown",
   "metadata": {},
   "source": [
    "<h2>Random Forest</h2>"
   ]
  },
  {
   "cell_type": "code",
   "execution_count": 19,
   "metadata": {},
   "outputs": [
    {
     "name": "stdout",
     "output_type": "stream",
     "text": [
      "Fitting 10 folds for each of 30 candidates, totalling 300 fits\n"
     ]
    },
    {
     "name": "stderr",
     "output_type": "stream",
     "text": [
      "[Parallel(n_jobs=3)]: Using backend LokyBackend with 3 concurrent workers.\n",
      "[Parallel(n_jobs=3)]: Done  35 tasks      | elapsed:   30.0s\n",
      "[Parallel(n_jobs=3)]: Done 156 tasks      | elapsed:  2.2min\n",
      "[Parallel(n_jobs=3)]: Done 300 out of 300 | elapsed:  4.1min finished\n"
     ]
    },
    {
     "name": "stdout",
     "output_type": "stream",
     "text": [
      "{'max_depth': 16, 'max_features': 'sqrt', 'min_samples_split': 2, 'n_estimators': 200, 'random_state': 2099}\n"
     ]
    }
   ],
   "source": [
    "# define the grid search parameters\n",
    "parameters = {\n",
    "    'n_estimators': [200, 400],\n",
    "    'max_depth': [14, 15, 16, 17, 18],\n",
    "    'min_samples_split': [2, 4, 8],\n",
    "    'max_features': ['sqrt'],\n",
    "    'random_state': [2099]\n",
    "}\n",
    "\n",
    "rforest_reg = GridSearchCV(RandomForestRegressor(), parameters, scoring = 'neg_root_mean_squared_error', cv = kfolds, verbose = 2, n_jobs = 3)\n",
    "rforest_reg.fit(X_train_transformed, y_train)\n",
    "print(rforest_reg.best_params_)"
   ]
  },
  {
   "cell_type": "code",
   "execution_count": 20,
   "metadata": {},
   "outputs": [],
   "source": [
    "rforest = RandomForestRegressor(max_depth = 16, max_features = 'sqrt', min_samples_split = 2, n_estimators = 200, random_state = 2099)"
   ]
  },
  {
   "cell_type": "markdown",
   "metadata": {},
   "source": [
    "<h2>Extra Trees Regressor</h2>"
   ]
  },
  {
   "cell_type": "code",
   "execution_count": 21,
   "metadata": {},
   "outputs": [
    {
     "name": "stdout",
     "output_type": "stream",
     "text": [
      "Fitting 10 folds for each of 9 candidates, totalling 90 fits\n"
     ]
    },
    {
     "name": "stderr",
     "output_type": "stream",
     "text": [
      "[Parallel(n_jobs=3)]: Using backend LokyBackend with 3 concurrent workers.\n",
      "[Parallel(n_jobs=3)]: Done  35 tasks      | elapsed:  2.6min\n",
      "[Parallel(n_jobs=3)]: Done  90 out of  90 | elapsed:  6.3min finished\n"
     ]
    },
    {
     "name": "stdout",
     "output_type": "stream",
     "text": [
      "{'max_depth': 18, 'max_features': 'auto', 'min_samples_split': 7, 'n_estimators': 200, 'random_state': 2099}\n"
     ]
    }
   ],
   "source": [
    "# define the grid search parameters\n",
    "parameters = {\n",
    "    'n_estimators': [200],\n",
    "    'max_depth': [17, 18, 19],\n",
    "    'min_samples_split': [6, 7, 8],\n",
    "    'max_features': ['auto'],\n",
    "    'random_state': [2099]\n",
    "}\n",
    "\n",
    "extratrees_reg = GridSearchCV(ExtraTreesRegressor(), parameters, scoring = 'neg_root_mean_squared_error', cv = kfolds, verbose = 2, n_jobs = 3)\n",
    "extratrees_reg.fit(X_train_transformed, y_train)\n",
    "print(extratrees_reg.best_params_)"
   ]
  },
  {
   "cell_type": "code",
   "execution_count": 22,
   "metadata": {},
   "outputs": [],
   "source": [
    "extratrees = ExtraTreesRegressor(max_depth = 18, max_features = 'auto', min_samples_split = 7, n_estimators = 200, random_state = 2099)"
   ]
  },
  {
   "cell_type": "markdown",
   "metadata": {},
   "source": [
    "<h2>Gradient Boosting Regressor</h2>"
   ]
  },
  {
   "cell_type": "code",
   "execution_count": 23,
   "metadata": {},
   "outputs": [
    {
     "name": "stdout",
     "output_type": "stream",
     "text": [
      "Fitting 10 folds for each of 9 candidates, totalling 90 fits\n"
     ]
    },
    {
     "name": "stderr",
     "output_type": "stream",
     "text": [
      "[Parallel(n_jobs=3)]: Using backend LokyBackend with 3 concurrent workers.\n",
      "[Parallel(n_jobs=3)]: Done  35 tasks      | elapsed:  2.9min\n",
      "[Parallel(n_jobs=3)]: Done  90 out of  90 | elapsed:  9.9min finished\n"
     ]
    },
    {
     "name": "stdout",
     "output_type": "stream",
     "text": [
      "{'learning_rate': 0.05, 'loss': 'huber', 'max_depth': 2, 'max_features': 'sqrt', 'min_samples_split': 6, 'n_estimators': 3000, 'random_state': 2099}\n"
     ]
    }
   ],
   "source": [
    "# define the grid search parameters\n",
    "parameters = {\n",
    "    'loss': ['huber'],\n",
    "    'learning_rate': [0.05],\n",
    "    'n_estimators': [3000],\n",
    "    'max_depth': [2, 4, 8],\n",
    "    'min_samples_split': [6, 8, 10],\n",
    "    'max_features': ['sqrt'],\n",
    "    'random_state': [2099]\n",
    "}\n",
    "\n",
    "gradientboosting_reg = GridSearchCV(GradientBoostingRegressor(), parameters, scoring = 'neg_root_mean_squared_error', cv = kfolds, verbose = 2, n_jobs = 3)\n",
    "gradientboosting_reg.fit(X_train_transformed, y_train)\n",
    "print(gradientboosting_reg.best_params_)"
   ]
  },
  {
   "cell_type": "code",
   "execution_count": 24,
   "metadata": {},
   "outputs": [],
   "source": [
    "gradientboosting = GradientBoostingRegressor(learning_rate = 0.05, loss = 'huber', max_depth = 2, max_features = 'sqrt', min_samples_split = 6, n_estimators = 3000, random_state = 2099)"
   ]
  },
  {
   "cell_type": "markdown",
   "metadata": {},
   "source": [
    "<h2>Lightgbm</h2>"
   ]
  },
  {
   "cell_type": "code",
   "execution_count": 25,
   "metadata": {},
   "outputs": [
    {
     "name": "stdout",
     "output_type": "stream",
     "text": [
      "Fitting 10 folds for each of 27 candidates, totalling 270 fits\n"
     ]
    },
    {
     "name": "stderr",
     "output_type": "stream",
     "text": [
      "[Parallel(n_jobs=3)]: Using backend LokyBackend with 3 concurrent workers.\n",
      "[Parallel(n_jobs=3)]: Done  35 tasks      | elapsed:    7.4s\n",
      "[Parallel(n_jobs=3)]: Done 156 tasks      | elapsed:   32.6s\n",
      "[Parallel(n_jobs=3)]: Done 270 out of 270 | elapsed:   56.8s finished\n"
     ]
    },
    {
     "name": "stdout",
     "output_type": "stream",
     "text": [
      "{'learning_rate': 0.1, 'max_depth': 6, 'min_data_in_leaf': 6, 'num_leaves': 8, 'objective': 'regression', 'random_state': 2099}\n"
     ]
    }
   ],
   "source": [
    "# define the grid search parameters\n",
    "parameters = {\n",
    "    'objective': ['regression'],\n",
    "    'num_leaves': [7, 8, 9],\n",
    "    'learning_rate': [0.1],\n",
    "    'min_data_in_leaf': [5, 6, 7],\n",
    "    'max_depth': [5, 6, 7],\n",
    "    'random_state': [2099]\n",
    "}\n",
    "\n",
    "lightgbm_reg = GridSearchCV(LGBMRegressor(), parameters, scoring = 'neg_root_mean_squared_error', cv = kfolds, verbose = 2, n_jobs = 3)\n",
    "lightgbm_reg.fit(X_train_transformed, y_train)\n",
    "print(lightgbm_reg.best_params_)"
   ]
  },
  {
   "cell_type": "code",
   "execution_count": 26,
   "metadata": {},
   "outputs": [],
   "source": [
    "lightgbm = LGBMRegressor(objective = 'regression', num_leaves = 8, learning_rate = 0.1, \n",
    "                         max_depth = 6, min_data_in_leaf = 6, random_state = 2099)"
   ]
  },
  {
   "cell_type": "markdown",
   "metadata": {},
   "source": [
    "<h2>XGBoost</h2>"
   ]
  },
  {
   "cell_type": "code",
   "execution_count": 27,
   "metadata": {},
   "outputs": [
    {
     "name": "stdout",
     "output_type": "stream",
     "text": [
      "Fitting 10 folds for each of 18 candidates, totalling 180 fits\n"
     ]
    },
    {
     "name": "stderr",
     "output_type": "stream",
     "text": [
      "[Parallel(n_jobs=3)]: Using backend LokyBackend with 3 concurrent workers.\n",
      "[Parallel(n_jobs=3)]: Done  35 tasks      | elapsed:  1.0min\n",
      "[Parallel(n_jobs=3)]: Done 156 tasks      | elapsed:  4.7min\n",
      "[Parallel(n_jobs=3)]: Done 180 out of 180 | elapsed:  5.4min finished\n"
     ]
    },
    {
     "name": "stdout",
     "output_type": "stream",
     "text": [
      "{'colsample_bytree': 0.75, 'learning_rate': 0.1, 'max_depth': 16, 'min_child_weight': 5, 'min_data_in_leaf': 2, 'objective': 'reg:squarederror', 'random_state': 2099, 'subsample': 0.75}\n"
     ]
    }
   ],
   "source": [
    "# define the grid search parameters\n",
    "parameters = {\n",
    "    'objective': ['reg:squarederror'],\n",
    "    'learning_rate': [0.1],\n",
    "    'min_child_weight': [5, 6],\n",
    "    'subsample': [0.75],\n",
    "    'colsample_bytree': [0.75],\n",
    "    'min_data_in_leaf': [2, 3, 4],\n",
    "    'max_depth': [15, 16, 17],\n",
    "    'random_state': [2099]\n",
    "}\n",
    "\n",
    "xgboost_reg = GridSearchCV(XGBRegressor(), parameters, scoring = 'neg_root_mean_squared_error', cv = kfolds, verbose = 2, n_jobs = 3)\n",
    "xgboost_reg.fit(X_train_transformed, y_train)\n",
    "print(xgboost_reg.best_params_)"
   ]
  },
  {
   "cell_type": "code",
   "execution_count": 28,
   "metadata": {},
   "outputs": [],
   "source": [
    "xgboost = XGBRegressor(learning_rate = 0.1, max_depth = 16, min_data_in_leaf = 2, min_child_weight = 5, \n",
    "                       subsample = 0.75, colsample_bytree = 0.75, objective = 'reg:squarederror')"
   ]
  },
  {
   "cell_type": "markdown",
   "metadata": {},
   "source": [
    "<h2>Predictions</h2>"
   ]
  },
  {
   "cell_type": "code",
   "execution_count": 29,
   "metadata": {},
   "outputs": [],
   "source": [
    "ridge = Ridge(alpha = 14.5, max_iter = 1e7, random_state = 2099)\n",
    "lasso = Lasso(alpha = 4e-4, max_iter = 1e7, random_state = 2099, selection = 'random')\n",
    "eNet = ElasticNet(alpha = 6e-4, max_iter=1e7, l1_ratio = 0.58, random_state = 2099, selection = 'random')\n",
    "svr = SVR(C = 20, epsilon = 0.01, gamma = 3e-4)\n",
    "bayesianridge = BayesianRidge(alpha_1 = 3e-9, alpha_2 = 5, lambda_1 = 5.9, lambda_2 = 0.1)\n",
    "tree = DecisionTreeRegressor(max_depth = 18, max_features = 'auto', min_samples_split = 33, random_state = 2099, splitter = 'best')\n",
    "rforest = RandomForestRegressor(max_depth = 16, max_features = 'sqrt', min_samples_split = 2, n_estimators = 200, random_state = 2099)\n",
    "extratrees = ExtraTreesRegressor(max_depth = 18, max_features = 'auto', min_samples_split = 7, n_estimators = 200, random_state = 2099)\n",
    "gradientboosting = GradientBoostingRegressor(learning_rate = 0.05, loss = 'huber', max_depth = 2, max_features = 'sqrt', min_samples_split = 8, min_samples_leaf = 15, n_estimators = 5000, random_state = 2099)\n",
    "lightgbm = LGBMRegressor(bagging_fraction = 0.75, bagging_freq = 5, bagging_seed = 7, feature_fraction = 0.2, feature_fraction_seed = 7, learning_rate = 0.01, max_bin = 200, max_depth = 4, min_data_in_leaf = 4, n_estimators = 5000, num_leaves = 8, objective = 'regression', random_state = 2099)\n",
    "xgboost = XGBRegressor(learning_rate = 0.1, max_depth = 16, min_data_in_leaf = 2, min_child_weight = 5, subsample = 0.75, colsample_bytree = 0.75, objective = 'reg:squarederror')"
   ]
  },
  {
   "cell_type": "code",
   "execution_count": 30,
   "metadata": {
    "scrolled": false
   },
   "outputs": [
    {
     "name": "stdout",
     "output_type": "stream",
     "text": [
      "task:         [regression]\n",
      "metric:       [mean_squared_error]\n",
      "mode:         [oof_pred_bag]\n",
      "n_models:     [11]\n",
      "\n",
      "model  0:     [Ridge]\n",
      "    fold  0:  [0.01895957]\n",
      "    fold  1:  [0.01696827]\n"
     ]
    },
    {
     "name": "stderr",
     "output_type": "stream",
     "text": [
      "C:\\Users\\Paulo\\AppData\\Roaming\\Python\\Python37\\site-packages\\sklearn\\linear_model\\_ridge.py:148: LinAlgWarning: Ill-conditioned matrix (rcond=1.7737e-18): result may not be accurate.\n",
      "  overwrite_a=True).T\n",
      "C:\\Users\\Paulo\\AppData\\Roaming\\Python\\Python37\\site-packages\\sklearn\\linear_model\\_ridge.py:148: LinAlgWarning: Ill-conditioned matrix (rcond=1.71228e-18): result may not be accurate.\n",
      "  overwrite_a=True).T\n",
      "C:\\Users\\Paulo\\AppData\\Roaming\\Python\\Python37\\site-packages\\sklearn\\linear_model\\_ridge.py:148: LinAlgWarning: Ill-conditioned matrix (rcond=1.75922e-18): result may not be accurate.\n",
      "  overwrite_a=True).T\n",
      "C:\\Users\\Paulo\\AppData\\Roaming\\Python\\Python37\\site-packages\\sklearn\\linear_model\\_ridge.py:148: LinAlgWarning: Ill-conditioned matrix (rcond=1.70094e-18): result may not be accurate.\n",
      "  overwrite_a=True).T\n",
      "C:\\Users\\Paulo\\AppData\\Roaming\\Python\\Python37\\site-packages\\sklearn\\linear_model\\_ridge.py:148: LinAlgWarning: Ill-conditioned matrix (rcond=1.84367e-18): result may not be accurate.\n",
      "  overwrite_a=True).T\n",
      "C:\\Users\\Paulo\\AppData\\Roaming\\Python\\Python37\\site-packages\\sklearn\\linear_model\\_ridge.py:148: LinAlgWarning: Ill-conditioned matrix (rcond=1.93789e-18): result may not be accurate.\n",
      "  overwrite_a=True).T\n",
      "C:\\Users\\Paulo\\AppData\\Roaming\\Python\\Python37\\site-packages\\sklearn\\linear_model\\_ridge.py:148: LinAlgWarning: Ill-conditioned matrix (rcond=2.1401e-18): result may not be accurate.\n",
      "  overwrite_a=True).T\n",
      "C:\\Users\\Paulo\\AppData\\Roaming\\Python\\Python37\\site-packages\\sklearn\\linear_model\\_ridge.py:148: LinAlgWarning: Ill-conditioned matrix (rcond=2.45546e-18): result may not be accurate.\n",
      "  overwrite_a=True).T\n"
     ]
    },
    {
     "name": "stdout",
     "output_type": "stream",
     "text": [
      "    fold  2:  [0.01615838]\n",
      "    fold  3:  [0.01254398]\n",
      "    fold  4:  [0.01337560]\n",
      "    fold  5:  [0.00761028]\n",
      "    fold  6:  [0.01320632]\n",
      "    fold  7:  [0.01836430]\n",
      "    fold  8:  [0.01209864]\n",
      "    fold  9:  [0.01462718]\n",
      "    ----\n",
      "    MEAN:     [0.01439125] + [0.00321807]\n",
      "    FULL:     [0.01439125]\n",
      "\n",
      "model  1:     [Lasso]"
     ]
    },
    {
     "name": "stderr",
     "output_type": "stream",
     "text": [
      "C:\\Users\\Paulo\\AppData\\Roaming\\Python\\Python37\\site-packages\\sklearn\\linear_model\\_ridge.py:148: LinAlgWarning: Ill-conditioned matrix (rcond=1.9689e-18): result may not be accurate.\n",
      "  overwrite_a=True).T\n",
      "C:\\Users\\Paulo\\AppData\\Roaming\\Python\\Python37\\site-packages\\sklearn\\linear_model\\_ridge.py:148: LinAlgWarning: Ill-conditioned matrix (rcond=1.71055e-18): result may not be accurate.\n",
      "  overwrite_a=True).T\n"
     ]
    },
    {
     "name": "stdout",
     "output_type": "stream",
     "text": [
      "\n",
      "    fold  0:  [0.01966990]\n",
      "    fold  1:  [0.01740386]\n",
      "    fold  2:  [0.01505695]\n",
      "    fold  3:  [0.01081076]\n",
      "    fold  4:  [0.01321318]\n",
      "    fold  5:  [0.00663181]\n",
      "    fold  6:  [0.01171878]\n",
      "    fold  7:  [0.01831340]\n",
      "    fold  8:  [0.01096353]\n",
      "    fold  9:  [0.01371758]\n",
      "    ----\n",
      "    MEAN:     [0.01374997] + [0.00377380]\n",
      "    FULL:     [0.01374997]\n",
      "\n",
      "model  2:     [ElasticNet]\n",
      "    fold  0:  [0.01957326]\n",
      "    fold  1:  [0.01735307]\n",
      "    fold  2:  [0.01507354]\n",
      "    fold  3:  [0.01096000]\n",
      "    fold  4:  [0.01309205]\n",
      "    fold  5:  [0.00667082]\n",
      "    fold  6:  [0.01178047]\n",
      "    fold  7:  [0.01812224]\n",
      "    fold  8:  [0.01113508]\n",
      "    fold  9:  [0.01348942]\n",
      "    ----\n",
      "    MEAN:     [0.01372500] + [0.00369961]\n",
      "    FULL:     [0.01372500]\n",
      "\n",
      "model  3:     [SVR]\n",
      "    fold  0:  [0.15020624]\n",
      "    fold  1:  [0.17637557]\n",
      "    fold  2:  [0.17651356]\n",
      "    fold  3:  [0.15688831]\n",
      "    fold  4:  [0.13417871]\n",
      "    fold  5:  [0.10765849]\n",
      "    fold  6:  [0.15888198]\n",
      "    fold  7:  [0.19113056]\n",
      "    fold  8:  [0.15058870]\n",
      "    fold  9:  [0.19324528]\n",
      "    ----\n",
      "    MEAN:     [0.15956674] + [0.02493017]\n",
      "    FULL:     [0.15956674]\n",
      "\n",
      "model  4:     [BayesianRidge]\n",
      "    fold  0:  [0.01883648]\n",
      "    fold  1:  [0.01705825]\n",
      "    fold  2:  [0.01609384]\n",
      "    fold  3:  [0.01246503]\n",
      "    fold  4:  [0.01321558]\n",
      "    fold  5:  [0.00768525]\n",
      "    fold  6:  [0.01325857]\n",
      "    fold  7:  [0.01829157]\n",
      "    fold  8:  [0.01232314]\n",
      "    fold  9:  [0.01449430]\n",
      "    ----\n",
      "    MEAN:     [0.01437220] + [0.00317198]\n",
      "    FULL:     [0.01437220]\n",
      "\n",
      "model  5:     [DecisionTreeRegressor]\n",
      "    fold  0:  [0.03447794]\n",
      "    fold  1:  [0.02941327]\n",
      "    fold  2:  [0.03659796]\n",
      "    fold  3:  [0.02509970]\n",
      "    fold  4:  [0.03260954]\n",
      "    fold  5:  [0.02106866]\n",
      "    fold  6:  [0.03834359]\n",
      "    fold  7:  [0.02792362]\n",
      "    fold  8:  [0.02420811]\n",
      "    fold  9:  [0.03663833]\n",
      "    ----\n",
      "    MEAN:     [0.03063807] + [0.00567441]\n",
      "    FULL:     [0.03063807]\n",
      "\n",
      "model  6:     [RandomForestRegressor]\n",
      "    fold  0:  [0.01705566]\n",
      "    fold  1:  [0.01963376]\n",
      "    fold  2:  [0.02289618]\n",
      "    fold  3:  [0.01618125]\n",
      "    fold  4:  [0.01659047]\n",
      "    fold  5:  [0.00869917]\n",
      "    fold  6:  [0.02329363]\n",
      "    fold  7:  [0.02244318]\n",
      "    fold  8:  [0.01489450]\n",
      "    fold  9:  [0.02290734]\n",
      "    ----\n",
      "    MEAN:     [0.01845951] + [0.00445772]\n",
      "    FULL:     [0.01845951]\n",
      "\n",
      "model  7:     [ExtraTreesRegressor]\n",
      "    fold  0:  [0.02239277]\n",
      "    fold  1:  [0.01816600]\n",
      "    fold  2:  [0.01901795]\n",
      "    fold  3:  [0.01388353]\n",
      "    fold  4:  [0.01699698]\n",
      "    fold  5:  [0.00872647]\n",
      "    fold  6:  [0.02121408]\n",
      "    fold  7:  [0.02394497]\n",
      "    fold  8:  [0.01518586]\n",
      "    fold  9:  [0.01931506]\n",
      "    ----\n",
      "    MEAN:     [0.01788437] + [0.00423672]\n",
      "    FULL:     [0.01788437]\n",
      "\n",
      "model  8:     [GradientBoostingRegressor]\n",
      "    fold  0:  [0.01849584]\n",
      "    fold  1:  [0.01552823]\n",
      "    fold  2:  [0.01722660]\n",
      "    fold  3:  [0.01477677]\n",
      "    fold  4:  [0.01134416]\n",
      "    fold  5:  [0.00608695]\n",
      "    fold  6:  [0.02211539]\n",
      "    fold  7:  [0.01412203]\n",
      "    fold  8:  [0.01273130]\n",
      "    fold  9:  [0.01724291]\n",
      "    ----\n",
      "    MEAN:     [0.01496702] + [0.00414586]\n",
      "    FULL:     [0.01496702]\n",
      "\n",
      "model  9:     [LGBMRegressor]\n",
      "    fold  0:  [0.01327864]\n",
      "    fold  1:  [0.01616626]\n",
      "    fold  2:  [0.01697462]\n",
      "    fold  3:  [0.01292958]\n",
      "    fold  4:  [0.01260342]\n",
      "    fold  5:  [0.00563999]\n",
      "    fold  6:  [0.01868374]\n",
      "    fold  7:  [0.01536336]\n",
      "    fold  8:  [0.01300299]\n",
      "    fold  9:  [0.01481359]\n",
      "    ----\n",
      "    MEAN:     [0.01394562] + [0.00335365]\n",
      "    FULL:     [0.01394562]\n",
      "\n",
      "model 10:     [XGBRegressor]\n",
      "    fold  0:  [0.01746481]\n",
      "    fold  1:  [0.01881924]\n",
      "    fold  2:  [0.01911689]\n",
      "    fold  3:  [0.01542309]\n",
      "    fold  4:  [0.01504063]\n",
      "    fold  5:  [0.00696992]\n",
      "    fold  6:  [0.02171384]\n",
      "    fold  7:  [0.01780014]\n",
      "    fold  8:  [0.01715240]\n",
      "    fold  9:  [0.01611576]\n",
      "    ----\n",
      "    MEAN:     [0.01656167] + [0.00369702]\n",
      "    FULL:     [0.01656167]\n",
      "\n"
     ]
    }
   ],
   "source": [
    "models = [ridge, lasso, eNet, svr, bayesianridge, \n",
    "          tree, rforest, extratrees, gradientboosting, lightgbm, xgboost]\n",
    "\n",
    "S_train, S_test = stacking(models, X_train, y_train, X_test, regression = True, mode = 'oof_pred_bag', \n",
    "                           needs_proba = False, save_dir = None, metric = mean_squared_error, \n",
    "                           n_folds = 10, stratified = False, shuffle = True, random_state = 2099, verbose=2)"
   ]
  },
  {
   "cell_type": "code",
   "execution_count": 31,
   "metadata": {},
   "outputs": [
    {
     "name": "stdout",
     "output_type": "stream",
     "text": [
      "Fitting 10 folds for each of 19 candidates, totalling 190 fits\n"
     ]
    },
    {
     "name": "stderr",
     "output_type": "stream",
     "text": [
      "[Parallel(n_jobs=3)]: Using backend LokyBackend with 3 concurrent workers.\n",
      "[Parallel(n_jobs=3)]: Done  56 tasks      | elapsed:    2.3s\n",
      "[Parallel(n_jobs=3)]: Done 190 out of 190 | elapsed:    2.5s finished\n"
     ]
    },
    {
     "name": "stdout",
     "output_type": "stream",
     "text": [
      "{'alpha': 5.4, 'random_state': 2099}\n"
     ]
    }
   ],
   "source": [
    "# define the grid search parameters\n",
    "parameters = {\n",
    "    'alpha': [4.1, 4.2, 4.3, 4.4, 4.5, 4.6, 4.7, 4.8, 4.9, 5, 5.1, 5.2, 5.3, 5.4, 5.5, 5.6, 5.7, 5.8, 5.9],\n",
    "    'random_state': [2099]\n",
    "}\n",
    "\n",
    "ridge = GridSearchCV(Ridge(), parameters, scoring='neg_root_mean_squared_error',cv = kfolds, verbose = 2, n_jobs = 3)\n",
    "ridge.fit(S_train, y_train)\n",
    "print(ridge.best_params_)"
   ]
  },
  {
   "cell_type": "code",
   "execution_count": 32,
   "metadata": {},
   "outputs": [],
   "source": [
    "model = Ridge(alpha = 5.4, random_state = 2099)\n",
    "model = model.fit(S_train, y_train)\n",
    "y_pred = model.predict(S_test)"
   ]
  },
  {
   "cell_type": "code",
   "execution_count": 33,
   "metadata": {},
   "outputs": [],
   "source": [
    "idlist = pd.Series(range(1461, 2920))"
   ]
  },
  {
   "cell_type": "code",
   "execution_count": 34,
   "metadata": {},
   "outputs": [],
   "source": [
    "SalePrice = pd.Series(np.floor(np.exp(y_pred)))"
   ]
  },
  {
   "cell_type": "code",
   "execution_count": 35,
   "metadata": {},
   "outputs": [],
   "source": [
    "submission = pd.DataFrame({'Id': idlist, 'SalePrice': SalePrice})"
   ]
  },
  {
   "cell_type": "code",
   "execution_count": 36,
   "metadata": {},
   "outputs": [
    {
     "data": {
      "text/html": [
       "<div>\n",
       "<style scoped>\n",
       "    .dataframe tbody tr th:only-of-type {\n",
       "        vertical-align: middle;\n",
       "    }\n",
       "\n",
       "    .dataframe tbody tr th {\n",
       "        vertical-align: top;\n",
       "    }\n",
       "\n",
       "    .dataframe thead th {\n",
       "        text-align: right;\n",
       "    }\n",
       "</style>\n",
       "<table border=\"1\" class=\"dataframe\">\n",
       "  <thead>\n",
       "    <tr style=\"text-align: right;\">\n",
       "      <th></th>\n",
       "      <th>Id</th>\n",
       "      <th>SalePrice</th>\n",
       "    </tr>\n",
       "  </thead>\n",
       "  <tbody>\n",
       "    <tr>\n",
       "      <th>0</th>\n",
       "      <td>1461</td>\n",
       "      <td>122430.0</td>\n",
       "    </tr>\n",
       "    <tr>\n",
       "      <th>1</th>\n",
       "      <td>1462</td>\n",
       "      <td>154822.0</td>\n",
       "    </tr>\n",
       "    <tr>\n",
       "      <th>2</th>\n",
       "      <td>1463</td>\n",
       "      <td>182752.0</td>\n",
       "    </tr>\n",
       "    <tr>\n",
       "      <th>3</th>\n",
       "      <td>1464</td>\n",
       "      <td>197522.0</td>\n",
       "    </tr>\n",
       "    <tr>\n",
       "      <th>4</th>\n",
       "      <td>1465</td>\n",
       "      <td>190063.0</td>\n",
       "    </tr>\n",
       "    <tr>\n",
       "      <th>...</th>\n",
       "      <td>...</td>\n",
       "      <td>...</td>\n",
       "    </tr>\n",
       "    <tr>\n",
       "      <th>1454</th>\n",
       "      <td>2915</td>\n",
       "      <td>82612.0</td>\n",
       "    </tr>\n",
       "    <tr>\n",
       "      <th>1455</th>\n",
       "      <td>2916</td>\n",
       "      <td>80127.0</td>\n",
       "    </tr>\n",
       "    <tr>\n",
       "      <th>1456</th>\n",
       "      <td>2917</td>\n",
       "      <td>166121.0</td>\n",
       "    </tr>\n",
       "    <tr>\n",
       "      <th>1457</th>\n",
       "      <td>2918</td>\n",
       "      <td>115564.0</td>\n",
       "    </tr>\n",
       "    <tr>\n",
       "      <th>1458</th>\n",
       "      <td>2919</td>\n",
       "      <td>215655.0</td>\n",
       "    </tr>\n",
       "  </tbody>\n",
       "</table>\n",
       "<p>1459 rows × 2 columns</p>\n",
       "</div>"
      ],
      "text/plain": [
       "        Id  SalePrice\n",
       "0     1461   122430.0\n",
       "1     1462   154822.0\n",
       "2     1463   182752.0\n",
       "3     1464   197522.0\n",
       "4     1465   190063.0\n",
       "...    ...        ...\n",
       "1454  2915    82612.0\n",
       "1455  2916    80127.0\n",
       "1456  2917   166121.0\n",
       "1457  2918   115564.0\n",
       "1458  2919   215655.0\n",
       "\n",
       "[1459 rows x 2 columns]"
      ]
     },
     "execution_count": 36,
     "metadata": {},
     "output_type": "execute_result"
    }
   ],
   "source": [
    "submission"
   ]
  },
  {
   "cell_type": "code",
   "execution_count": 37,
   "metadata": {},
   "outputs": [],
   "source": [
    "submission.to_csv('Submission.csv', index = False)"
   ]
  }
 ],
 "metadata": {
  "kernelspec": {
   "display_name": "Python 3",
   "language": "python",
   "name": "python3"
  },
  "language_info": {
   "codemirror_mode": {
    "name": "ipython",
    "version": 3
   },
   "file_extension": ".py",
   "mimetype": "text/x-python",
   "name": "python",
   "nbconvert_exporter": "python",
   "pygments_lexer": "ipython3",
   "version": "3.7.6"
  }
 },
 "nbformat": 4,
 "nbformat_minor": 2
}
