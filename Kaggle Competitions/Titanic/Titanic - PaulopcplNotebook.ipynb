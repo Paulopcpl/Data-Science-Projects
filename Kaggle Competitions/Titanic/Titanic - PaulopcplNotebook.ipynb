{
 "cells": [
  {
   "cell_type": "markdown",
   "metadata": {},
   "source": [
    "<h1>Titanic</h1>\n",
    "\n",
    "Top 8% on Kaggle with Stacking techniques."
   ]
  },
  {
   "cell_type": "markdown",
   "metadata": {},
   "source": [
    "Loading the libraries that are going to be used."
   ]
  },
  {
   "cell_type": "code",
   "execution_count": 1,
   "metadata": {},
   "outputs": [],
   "source": [
    "import numpy as np\n",
    "import pandas as pd\n",
    "import matplotlib.pyplot as plt\n",
    "import seaborn as sns\n",
    "\n",
    "from lightgbm import LGBMClassifier\n",
    "from scipy.stats import mode\n",
    "from sklearn.ensemble import RandomForestClassifier, VotingClassifier\n",
    "from sklearn.linear_model import LogisticRegression, SGDClassifier\n",
    "from sklearn.naive_bayes import BernoulliNB\n",
    "from sklearn.neighbors import KNeighborsClassifier\n",
    "from sklearn.metrics import f1_score\n",
    "from sklearn.model_selection import KFold, GridSearchCV\n",
    "from sklearn.preprocessing import StandardScaler\n",
    "from sklearn.svm import SVC\n",
    "from sklearn.tree import DecisionTreeClassifier\n",
    "from vecstack import stacking\n",
    "from xgboost import XGBClassifier\n",
    "\n",
    "%matplotlib inline\n",
    "plt.rcParams[\"figure.figsize\"] = (16, 8) # plot size"
   ]
  },
  {
   "cell_type": "markdown",
   "metadata": {},
   "source": [
    "I'll use 10-fold Cross-Validation to adjust my models."
   ]
  },
  {
   "cell_type": "code",
   "execution_count": 2,
   "metadata": {},
   "outputs": [],
   "source": [
    "kfolds = KFold(n_splits = 10, shuffle=True, random_state=2099)"
   ]
  },
  {
   "cell_type": "markdown",
   "metadata": {},
   "source": [
    "Load the data."
   ]
  },
  {
   "cell_type": "code",
   "execution_count": 3,
   "metadata": {},
   "outputs": [],
   "source": [
    "train = pd.read_csv('train.csv')\n",
    "test = pd.read_csv('test.csv')"
   ]
  },
  {
   "cell_type": "markdown",
   "metadata": {},
   "source": [
    "Merge the two datasets."
   ]
  },
  {
   "cell_type": "code",
   "execution_count": 4,
   "metadata": {},
   "outputs": [],
   "source": [
    "train['dataset'] = 'train'\n",
    "test['dataset'] = 'test'\n",
    "train = train.append(test)"
   ]
  },
  {
   "cell_type": "markdown",
   "metadata": {},
   "source": [
    "Taking a look at the numerical variables in the dataset."
   ]
  },
  {
   "cell_type": "code",
   "execution_count": 5,
   "metadata": {},
   "outputs": [
    {
     "data": {
      "text/html": [
       "<div>\n",
       "<style scoped>\n",
       "    .dataframe tbody tr th:only-of-type {\n",
       "        vertical-align: middle;\n",
       "    }\n",
       "\n",
       "    .dataframe tbody tr th {\n",
       "        vertical-align: top;\n",
       "    }\n",
       "\n",
       "    .dataframe thead th {\n",
       "        text-align: right;\n",
       "    }\n",
       "</style>\n",
       "<table border=\"1\" class=\"dataframe\">\n",
       "  <thead>\n",
       "    <tr style=\"text-align: right;\">\n",
       "      <th></th>\n",
       "      <th>PassengerId</th>\n",
       "      <th>Survived</th>\n",
       "      <th>Pclass</th>\n",
       "      <th>Age</th>\n",
       "      <th>SibSp</th>\n",
       "      <th>Parch</th>\n",
       "      <th>Fare</th>\n",
       "    </tr>\n",
       "  </thead>\n",
       "  <tbody>\n",
       "    <tr>\n",
       "      <th>count</th>\n",
       "      <td>1309.000000</td>\n",
       "      <td>891.000000</td>\n",
       "      <td>1309.000000</td>\n",
       "      <td>1046.000000</td>\n",
       "      <td>1309.000000</td>\n",
       "      <td>1309.000000</td>\n",
       "      <td>1308.000000</td>\n",
       "    </tr>\n",
       "    <tr>\n",
       "      <th>mean</th>\n",
       "      <td>655.000000</td>\n",
       "      <td>0.383838</td>\n",
       "      <td>2.294882</td>\n",
       "      <td>29.881138</td>\n",
       "      <td>0.498854</td>\n",
       "      <td>0.385027</td>\n",
       "      <td>33.295479</td>\n",
       "    </tr>\n",
       "    <tr>\n",
       "      <th>std</th>\n",
       "      <td>378.020061</td>\n",
       "      <td>0.486592</td>\n",
       "      <td>0.837836</td>\n",
       "      <td>14.413493</td>\n",
       "      <td>1.041658</td>\n",
       "      <td>0.865560</td>\n",
       "      <td>51.758668</td>\n",
       "    </tr>\n",
       "    <tr>\n",
       "      <th>min</th>\n",
       "      <td>1.000000</td>\n",
       "      <td>0.000000</td>\n",
       "      <td>1.000000</td>\n",
       "      <td>0.170000</td>\n",
       "      <td>0.000000</td>\n",
       "      <td>0.000000</td>\n",
       "      <td>0.000000</td>\n",
       "    </tr>\n",
       "    <tr>\n",
       "      <th>25%</th>\n",
       "      <td>328.000000</td>\n",
       "      <td>0.000000</td>\n",
       "      <td>2.000000</td>\n",
       "      <td>21.000000</td>\n",
       "      <td>0.000000</td>\n",
       "      <td>0.000000</td>\n",
       "      <td>7.895800</td>\n",
       "    </tr>\n",
       "    <tr>\n",
       "      <th>50%</th>\n",
       "      <td>655.000000</td>\n",
       "      <td>0.000000</td>\n",
       "      <td>3.000000</td>\n",
       "      <td>28.000000</td>\n",
       "      <td>0.000000</td>\n",
       "      <td>0.000000</td>\n",
       "      <td>14.454200</td>\n",
       "    </tr>\n",
       "    <tr>\n",
       "      <th>75%</th>\n",
       "      <td>982.000000</td>\n",
       "      <td>1.000000</td>\n",
       "      <td>3.000000</td>\n",
       "      <td>39.000000</td>\n",
       "      <td>1.000000</td>\n",
       "      <td>0.000000</td>\n",
       "      <td>31.275000</td>\n",
       "    </tr>\n",
       "    <tr>\n",
       "      <th>max</th>\n",
       "      <td>1309.000000</td>\n",
       "      <td>1.000000</td>\n",
       "      <td>3.000000</td>\n",
       "      <td>80.000000</td>\n",
       "      <td>8.000000</td>\n",
       "      <td>9.000000</td>\n",
       "      <td>512.329200</td>\n",
       "    </tr>\n",
       "  </tbody>\n",
       "</table>\n",
       "</div>"
      ],
      "text/plain": [
       "       PassengerId    Survived       Pclass          Age        SibSp  \\\n",
       "count  1309.000000  891.000000  1309.000000  1046.000000  1309.000000   \n",
       "mean    655.000000    0.383838     2.294882    29.881138     0.498854   \n",
       "std     378.020061    0.486592     0.837836    14.413493     1.041658   \n",
       "min       1.000000    0.000000     1.000000     0.170000     0.000000   \n",
       "25%     328.000000    0.000000     2.000000    21.000000     0.000000   \n",
       "50%     655.000000    0.000000     3.000000    28.000000     0.000000   \n",
       "75%     982.000000    1.000000     3.000000    39.000000     1.000000   \n",
       "max    1309.000000    1.000000     3.000000    80.000000     8.000000   \n",
       "\n",
       "             Parch         Fare  \n",
       "count  1309.000000  1308.000000  \n",
       "mean      0.385027    33.295479  \n",
       "std       0.865560    51.758668  \n",
       "min       0.000000     0.000000  \n",
       "25%       0.000000     7.895800  \n",
       "50%       0.000000    14.454200  \n",
       "75%       0.000000    31.275000  \n",
       "max       9.000000   512.329200  "
      ]
     },
     "execution_count": 5,
     "metadata": {},
     "output_type": "execute_result"
    }
   ],
   "source": [
    "train.describe()"
   ]
  },
  {
   "cell_type": "markdown",
   "metadata": {},
   "source": [
    "Taking a look at all the variables in the dataset and their basic stats."
   ]
  },
  {
   "cell_type": "code",
   "execution_count": 6,
   "metadata": {},
   "outputs": [
    {
     "data": {
      "text/html": [
       "<div>\n",
       "<style scoped>\n",
       "    .dataframe tbody tr th:only-of-type {\n",
       "        vertical-align: middle;\n",
       "    }\n",
       "\n",
       "    .dataframe tbody tr th {\n",
       "        vertical-align: top;\n",
       "    }\n",
       "\n",
       "    .dataframe thead th {\n",
       "        text-align: right;\n",
       "    }\n",
       "</style>\n",
       "<table border=\"1\" class=\"dataframe\">\n",
       "  <thead>\n",
       "    <tr style=\"text-align: right;\">\n",
       "      <th></th>\n",
       "      <th>variable</th>\n",
       "      <th>count</th>\n",
       "      <th>NaN</th>\n",
       "      <th>unique_values</th>\n",
       "      <th>mode</th>\n",
       "      <th>mode_count</th>\n",
       "      <th>mean</th>\n",
       "      <th>std</th>\n",
       "      <th>min</th>\n",
       "      <th>25%</th>\n",
       "      <th>50%</th>\n",
       "      <th>75%</th>\n",
       "      <th>max</th>\n",
       "    </tr>\n",
       "  </thead>\n",
       "  <tbody>\n",
       "    <tr>\n",
       "      <th>0</th>\n",
       "      <td>PassengerId</td>\n",
       "      <td>1309.0</td>\n",
       "      <td>0.0</td>\n",
       "      <td>1309.0</td>\n",
       "      <td>1</td>\n",
       "      <td>1.0</td>\n",
       "      <td>655.000000</td>\n",
       "      <td>378.020061</td>\n",
       "      <td>1.00</td>\n",
       "      <td>328.0000</td>\n",
       "      <td>655.0000</td>\n",
       "      <td>982.000</td>\n",
       "      <td>1309.0000</td>\n",
       "    </tr>\n",
       "    <tr>\n",
       "      <th>1</th>\n",
       "      <td>Survived</td>\n",
       "      <td>891.0</td>\n",
       "      <td>418.0</td>\n",
       "      <td>2.0</td>\n",
       "      <td>0</td>\n",
       "      <td>549.0</td>\n",
       "      <td>0.383838</td>\n",
       "      <td>0.486592</td>\n",
       "      <td>0.00</td>\n",
       "      <td>0.0000</td>\n",
       "      <td>0.0000</td>\n",
       "      <td>1.000</td>\n",
       "      <td>1.0000</td>\n",
       "    </tr>\n",
       "    <tr>\n",
       "      <th>2</th>\n",
       "      <td>Pclass</td>\n",
       "      <td>1309.0</td>\n",
       "      <td>0.0</td>\n",
       "      <td>3.0</td>\n",
       "      <td>3</td>\n",
       "      <td>709.0</td>\n",
       "      <td>2.294882</td>\n",
       "      <td>0.837836</td>\n",
       "      <td>1.00</td>\n",
       "      <td>2.0000</td>\n",
       "      <td>3.0000</td>\n",
       "      <td>3.000</td>\n",
       "      <td>3.0000</td>\n",
       "    </tr>\n",
       "    <tr>\n",
       "      <th>3</th>\n",
       "      <td>Age</td>\n",
       "      <td>1046.0</td>\n",
       "      <td>263.0</td>\n",
       "      <td>98.0</td>\n",
       "      <td>24</td>\n",
       "      <td>47.0</td>\n",
       "      <td>29.881138</td>\n",
       "      <td>14.413493</td>\n",
       "      <td>0.17</td>\n",
       "      <td>21.0000</td>\n",
       "      <td>28.0000</td>\n",
       "      <td>39.000</td>\n",
       "      <td>80.0000</td>\n",
       "    </tr>\n",
       "    <tr>\n",
       "      <th>4</th>\n",
       "      <td>SibSp</td>\n",
       "      <td>1309.0</td>\n",
       "      <td>0.0</td>\n",
       "      <td>7.0</td>\n",
       "      <td>0</td>\n",
       "      <td>891.0</td>\n",
       "      <td>0.498854</td>\n",
       "      <td>1.041658</td>\n",
       "      <td>0.00</td>\n",
       "      <td>0.0000</td>\n",
       "      <td>0.0000</td>\n",
       "      <td>1.000</td>\n",
       "      <td>8.0000</td>\n",
       "    </tr>\n",
       "    <tr>\n",
       "      <th>5</th>\n",
       "      <td>Parch</td>\n",
       "      <td>1309.0</td>\n",
       "      <td>0.0</td>\n",
       "      <td>8.0</td>\n",
       "      <td>0</td>\n",
       "      <td>1002.0</td>\n",
       "      <td>0.385027</td>\n",
       "      <td>0.865560</td>\n",
       "      <td>0.00</td>\n",
       "      <td>0.0000</td>\n",
       "      <td>0.0000</td>\n",
       "      <td>0.000</td>\n",
       "      <td>9.0000</td>\n",
       "    </tr>\n",
       "    <tr>\n",
       "      <th>6</th>\n",
       "      <td>Fare</td>\n",
       "      <td>1308.0</td>\n",
       "      <td>1.0</td>\n",
       "      <td>281.0</td>\n",
       "      <td>8.05</td>\n",
       "      <td>60.0</td>\n",
       "      <td>33.295479</td>\n",
       "      <td>51.758668</td>\n",
       "      <td>0.00</td>\n",
       "      <td>7.8958</td>\n",
       "      <td>14.4542</td>\n",
       "      <td>31.275</td>\n",
       "      <td>512.3292</td>\n",
       "    </tr>\n",
       "    <tr>\n",
       "      <th>7</th>\n",
       "      <td>Name</td>\n",
       "      <td>1309.0</td>\n",
       "      <td>0.0</td>\n",
       "      <td>1307.0</td>\n",
       "      <td>Connolly, Miss. Kate</td>\n",
       "      <td>2.0</td>\n",
       "      <td>NaN</td>\n",
       "      <td>NaN</td>\n",
       "      <td>NaN</td>\n",
       "      <td>NaN</td>\n",
       "      <td>NaN</td>\n",
       "      <td>NaN</td>\n",
       "      <td>NaN</td>\n",
       "    </tr>\n",
       "    <tr>\n",
       "      <th>8</th>\n",
       "      <td>Sex</td>\n",
       "      <td>1309.0</td>\n",
       "      <td>0.0</td>\n",
       "      <td>2.0</td>\n",
       "      <td>male</td>\n",
       "      <td>843.0</td>\n",
       "      <td>NaN</td>\n",
       "      <td>NaN</td>\n",
       "      <td>NaN</td>\n",
       "      <td>NaN</td>\n",
       "      <td>NaN</td>\n",
       "      <td>NaN</td>\n",
       "      <td>NaN</td>\n",
       "    </tr>\n",
       "    <tr>\n",
       "      <th>9</th>\n",
       "      <td>Ticket</td>\n",
       "      <td>1309.0</td>\n",
       "      <td>0.0</td>\n",
       "      <td>929.0</td>\n",
       "      <td>CA. 2343</td>\n",
       "      <td>11.0</td>\n",
       "      <td>NaN</td>\n",
       "      <td>NaN</td>\n",
       "      <td>NaN</td>\n",
       "      <td>NaN</td>\n",
       "      <td>NaN</td>\n",
       "      <td>NaN</td>\n",
       "      <td>NaN</td>\n",
       "    </tr>\n",
       "    <tr>\n",
       "      <th>10</th>\n",
       "      <td>Cabin</td>\n",
       "      <td>295.0</td>\n",
       "      <td>1014.0</td>\n",
       "      <td>186.0</td>\n",
       "      <td>C23 C25 C27</td>\n",
       "      <td>6.0</td>\n",
       "      <td>NaN</td>\n",
       "      <td>NaN</td>\n",
       "      <td>NaN</td>\n",
       "      <td>NaN</td>\n",
       "      <td>NaN</td>\n",
       "      <td>NaN</td>\n",
       "      <td>NaN</td>\n",
       "    </tr>\n",
       "    <tr>\n",
       "      <th>11</th>\n",
       "      <td>Embarked</td>\n",
       "      <td>1307.0</td>\n",
       "      <td>2.0</td>\n",
       "      <td>3.0</td>\n",
       "      <td>S</td>\n",
       "      <td>914.0</td>\n",
       "      <td>NaN</td>\n",
       "      <td>NaN</td>\n",
       "      <td>NaN</td>\n",
       "      <td>NaN</td>\n",
       "      <td>NaN</td>\n",
       "      <td>NaN</td>\n",
       "      <td>NaN</td>\n",
       "    </tr>\n",
       "    <tr>\n",
       "      <th>12</th>\n",
       "      <td>dataset</td>\n",
       "      <td>1309.0</td>\n",
       "      <td>0.0</td>\n",
       "      <td>2.0</td>\n",
       "      <td>train</td>\n",
       "      <td>891.0</td>\n",
       "      <td>NaN</td>\n",
       "      <td>NaN</td>\n",
       "      <td>NaN</td>\n",
       "      <td>NaN</td>\n",
       "      <td>NaN</td>\n",
       "      <td>NaN</td>\n",
       "      <td>NaN</td>\n",
       "    </tr>\n",
       "  </tbody>\n",
       "</table>\n",
       "</div>"
      ],
      "text/plain": [
       "       variable   count     NaN  unique_values                  mode  \\\n",
       "0   PassengerId  1309.0     0.0         1309.0                     1   \n",
       "1      Survived   891.0   418.0            2.0                     0   \n",
       "2        Pclass  1309.0     0.0            3.0                     3   \n",
       "3           Age  1046.0   263.0           98.0                    24   \n",
       "4         SibSp  1309.0     0.0            7.0                     0   \n",
       "5         Parch  1309.0     0.0            8.0                     0   \n",
       "6          Fare  1308.0     1.0          281.0                  8.05   \n",
       "7          Name  1309.0     0.0         1307.0  Connolly, Miss. Kate   \n",
       "8           Sex  1309.0     0.0            2.0                  male   \n",
       "9        Ticket  1309.0     0.0          929.0              CA. 2343   \n",
       "10        Cabin   295.0  1014.0          186.0           C23 C25 C27   \n",
       "11     Embarked  1307.0     2.0            3.0                     S   \n",
       "12      dataset  1309.0     0.0            2.0                 train   \n",
       "\n",
       "    mode_count        mean         std   min       25%       50%      75%  \\\n",
       "0          1.0  655.000000  378.020061  1.00  328.0000  655.0000  982.000   \n",
       "1        549.0    0.383838    0.486592  0.00    0.0000    0.0000    1.000   \n",
       "2        709.0    2.294882    0.837836  1.00    2.0000    3.0000    3.000   \n",
       "3         47.0   29.881138   14.413493  0.17   21.0000   28.0000   39.000   \n",
       "4        891.0    0.498854    1.041658  0.00    0.0000    0.0000    1.000   \n",
       "5       1002.0    0.385027    0.865560  0.00    0.0000    0.0000    0.000   \n",
       "6         60.0   33.295479   51.758668  0.00    7.8958   14.4542   31.275   \n",
       "7          2.0         NaN         NaN   NaN       NaN       NaN      NaN   \n",
       "8        843.0         NaN         NaN   NaN       NaN       NaN      NaN   \n",
       "9         11.0         NaN         NaN   NaN       NaN       NaN      NaN   \n",
       "10         6.0         NaN         NaN   NaN       NaN       NaN      NaN   \n",
       "11       914.0         NaN         NaN   NaN       NaN       NaN      NaN   \n",
       "12       891.0         NaN         NaN   NaN       NaN       NaN      NaN   \n",
       "\n",
       "          max  \n",
       "0   1309.0000  \n",
       "1      1.0000  \n",
       "2      3.0000  \n",
       "3     80.0000  \n",
       "4      8.0000  \n",
       "5      9.0000  \n",
       "6    512.3292  \n",
       "7         NaN  \n",
       "8         NaN  \n",
       "9         NaN  \n",
       "10        NaN  \n",
       "11        NaN  \n",
       "12        NaN  "
      ]
     },
     "execution_count": 6,
     "metadata": {},
     "output_type": "execute_result"
    }
   ],
   "source": [
    "stats = train.describe().T\n",
    "for i in range(len(train.columns)):\n",
    "    stats.loc[train.columns[i], 'mode'], stats.loc[train.columns[i], 'mode_count'] = mode(train[train.columns[i]])\n",
    "    stats.loc[train.columns[i], 'unique_values'] = train[train.columns[i]].value_counts().size\n",
    "    stats.loc[train.columns[i], 'NaN'] = train[train.columns[i]].isnull().sum()\n",
    "    if np.isnan(stats.loc[train.columns[i], 'count']): \n",
    "        stats.loc[train.columns[i], 'count'] = train.shape[0] - stats.loc[train.columns[i], 'NaN']\n",
    "stats = stats[['count', 'NaN', 'unique_values', 'mode', 'mode_count', 'mean', 'std', 'min', '25%', '50%', '75%', 'max']]\n",
    "stats.index.name = 'variable'\n",
    "stats.reset_index(inplace = True)\n",
    "stats"
   ]
  },
  {
   "cell_type": "markdown",
   "metadata": {},
   "source": [
    "<h2>Name</h2>\n",
    "\n",
    "It looks like the variable 'Name' has also titles in it. Let's check it. "
   ]
  },
  {
   "cell_type": "code",
   "execution_count": 7,
   "metadata": {},
   "outputs": [
    {
     "data": {
      "text/plain": [
       "413              Spector, Mr. Woolf\n",
       "414    Oliva y Ocana, Dona. Fermina\n",
       "415    Saether, Mr. Simon Sivertsen\n",
       "416             Ware, Mr. Frederick\n",
       "417        Peter, Master. Michael J\n",
       "Name: Name, dtype: object"
      ]
     },
     "execution_count": 7,
     "metadata": {},
     "output_type": "execute_result"
    }
   ],
   "source": [
    "train['Name'].tail()"
   ]
  },
  {
   "cell_type": "markdown",
   "metadata": {},
   "source": [
    "Ok. So I'll create a new variable with each person's title."
   ]
  },
  {
   "cell_type": "code",
   "execution_count": 8,
   "metadata": {},
   "outputs": [],
   "source": [
    "train['Title'] = train['Name'].str.split('.', n = 2, expand = True)[[0]]\n",
    "train['Title'] = train['Title'].str.split(',', n = 2, expand = True)[[1]]\n",
    "train['Title'] = train['Title'].str.strip()"
   ]
  },
  {
   "cell_type": "code",
   "execution_count": 9,
   "metadata": {},
   "outputs": [
    {
     "data": {
      "text/plain": [
       "Mr              757\n",
       "Miss            260\n",
       "Mrs             197\n",
       "Master           61\n",
       "Rev               8\n",
       "Dr                8\n",
       "Col               4\n",
       "Mlle              2\n",
       "Major             2\n",
       "Ms                2\n",
       "Mme               1\n",
       "Don               1\n",
       "Sir               1\n",
       "the Countess      1\n",
       "Dona              1\n",
       "Lady              1\n",
       "Capt              1\n",
       "Jonkheer          1\n",
       "Name: Title, dtype: int64"
      ]
     },
     "execution_count": 9,
     "metadata": {},
     "output_type": "execute_result"
    }
   ],
   "source": [
    "train.Title.value_counts()"
   ]
  },
  {
   "cell_type": "markdown",
   "metadata": {},
   "source": [
    "I'll aggregate some titles."
   ]
  },
  {
   "cell_type": "code",
   "execution_count": 10,
   "metadata": {},
   "outputs": [],
   "source": [
    "train.loc[train[train['Title'].isin(['Mlle', 'Ms', 'Mme'])].index, 'Title'] = 'Miss'"
   ]
  },
  {
   "cell_type": "code",
   "execution_count": 11,
   "metadata": {},
   "outputs": [],
   "source": [
    "train.loc[train[train['Title'].isin(['Don', 'Dona', 'Sir', 'the Countess', 'Lady', 'Jonkheer'])].index, 'Title'] = 'Nobility'"
   ]
  },
  {
   "cell_type": "code",
   "execution_count": 12,
   "metadata": {},
   "outputs": [],
   "source": [
    "train.loc[train[train['Title'].isin(['Major', 'Col', 'Capt'])].index, 'Title'] = 'Others'"
   ]
  },
  {
   "cell_type": "code",
   "execution_count": 13,
   "metadata": {},
   "outputs": [
    {
     "data": {
      "text/plain": [
       "Mr          752\n",
       "Miss        266\n",
       "Mrs         197\n",
       "Master       61\n",
       "Others        9\n",
       "Nobility      8\n",
       "Rev           8\n",
       "Dr            8\n",
       "Name: Title, dtype: int64"
      ]
     },
     "execution_count": 13,
     "metadata": {},
     "output_type": "execute_result"
    }
   ],
   "source": [
    "train.Title.value_counts()"
   ]
  },
  {
   "cell_type": "markdown",
   "metadata": {},
   "source": [
    "<h2>Embarked</h2>"
   ]
  },
  {
   "cell_type": "code",
   "execution_count": 14,
   "metadata": {},
   "outputs": [
    {
     "data": {
      "text/plain": [
       "<matplotlib.axes._subplots.AxesSubplot at 0x3487f1f708>"
      ]
     },
     "execution_count": 14,
     "metadata": {},
     "output_type": "execute_result"
    },
    {
     "data": {
      "image/png": "[encoded data removed]",
      "text/plain": [
       "<Figure size 1152x576 with 1 Axes>"
      ]
     },
     "metadata": {
      "needs_background": "light"
     },
     "output_type": "display_data"
    }
   ],
   "source": [
    "sns.countplot('Embarked', data = train)"
   ]
  },
  {
   "cell_type": "markdown",
   "metadata": {},
   "source": [
    "Since there are only 2 NA's in $Embarked$ and the majority of people embarked in Southampton (S), I'll fill the NA values with the value S."
   ]
  },
  {
   "cell_type": "code",
   "execution_count": 15,
   "metadata": {},
   "outputs": [],
   "source": [
    "train['Embarked'].fillna('S', inplace = True)"
   ]
  },
  {
   "cell_type": "markdown",
   "metadata": {},
   "source": [
    "<h2>FamilySize</h2>\n",
    "\n",
    "I saw somewhere that people in bigger groups had more chances of survival, so I'm adding a variable to account for the group size."
   ]
  },
  {
   "cell_type": "code",
   "execution_count": 16,
   "metadata": {},
   "outputs": [],
   "source": [
    "train['FamilySize'] = train['Parch'] + train['SibSp'] + 1"
   ]
  },
  {
   "cell_type": "markdown",
   "metadata": {},
   "source": [
    "<h2>Female</h2>\n",
    "\n",
    "I'm transforming the variable $gender$ into a dummy variable indicating if the person is $female$ or not."
   ]
  },
  {
   "cell_type": "code",
   "execution_count": 17,
   "metadata": {},
   "outputs": [],
   "source": [
    "train['Female'] = np.where(train['Sex'] == 'female', 1, 0)"
   ]
  },
  {
   "cell_type": "markdown",
   "metadata": {},
   "source": [
    "<h2>1st, 2nd and 3rd Class</h2>\n",
    "\n",
    "Dummy variables indicating whether the passengers were in 1st, 2nd or 3rd class."
   ]
  },
  {
   "cell_type": "code",
   "execution_count": 18,
   "metadata": {},
   "outputs": [],
   "source": [
    "train['1stClass'] = np.where(train['Pclass'] == 1, 1, 0)\n",
    "train['2ndClass'] = np.where(train['Pclass'] == 2, 1, 0)\n",
    "train['3rdClass'] = np.where(train['Pclass'] == 3, 1, 0)"
   ]
  },
  {
   "cell_type": "code",
   "execution_count": 19,
   "metadata": {},
   "outputs": [
    {
     "data": {
      "text/plain": [
       "3    709\n",
       "1    323\n",
       "2    277\n",
       "Name: Pclass, dtype: int64"
      ]
     },
     "execution_count": 19,
     "metadata": {},
     "output_type": "execute_result"
    }
   ],
   "source": [
    "train['Pclass'].value_counts()"
   ]
  },
  {
   "cell_type": "markdown",
   "metadata": {},
   "source": [
    "<h2>Age</h2>\n",
    "\n",
    "Treating the missing cases in this variable is a lit bit more complex.\n",
    "\n",
    "I did some exploratory analysis and decided to fill in the missing values in $age$ according to the median ages of people separating them by groups of different $titles$ and different $classes$. The graphs below show how each group can be aggregated by $title$ and $class$."
   ]
  },
  {
   "cell_type": "code",
   "execution_count": 20,
   "metadata": {},
   "outputs": [
    {
     "data": {
      "text/plain": [
       "count    1046.000000\n",
       "mean       29.881138\n",
       "std        14.413493\n",
       "min         0.170000\n",
       "25%        21.000000\n",
       "50%        28.000000\n",
       "75%        39.000000\n",
       "max        80.000000\n",
       "Name: Age, dtype: float64"
      ]
     },
     "execution_count": 20,
     "metadata": {},
     "output_type": "execute_result"
    }
   ],
   "source": [
    "train['Age'].describe()"
   ]
  },
  {
   "cell_type": "code",
   "execution_count": 21,
   "metadata": {},
   "outputs": [
    {
     "data": {
      "text/plain": [
       "<matplotlib.axes._subplots.AxesSubplot at 0x348ca4ec08>"
      ]
     },
     "execution_count": 21,
     "metadata": {},
     "output_type": "execute_result"
    },
    {
     "data": {
      "image/png": "[encoded data removed]",
      "text/plain": [
       "<Figure size 1152x576 with 2 Axes>"
      ]
     },
     "metadata": {
      "needs_background": "light"
     },
     "output_type": "display_data"
    }
   ],
   "source": [
    "fig, ax = plt.subplots(2, 1)\n",
    "\n",
    "sns.boxplot(x = 'Title', y = 'Age', data = train, ax = ax[0])\n",
    "sns.boxplot(x = 'Pclass', y = 'Age', data = train, ax = ax[1])"
   ]
  },
  {
   "cell_type": "code",
   "execution_count": 22,
   "metadata": {},
   "outputs": [
    {
     "data": {
      "text/html": [
       "<div>\n",
       "<style scoped>\n",
       "    .dataframe tbody tr th:only-of-type {\n",
       "        vertical-align: middle;\n",
       "    }\n",
       "\n",
       "    .dataframe tbody tr th {\n",
       "        vertical-align: top;\n",
       "    }\n",
       "\n",
       "    .dataframe thead th {\n",
       "        text-align: right;\n",
       "    }\n",
       "</style>\n",
       "<table border=\"1\" class=\"dataframe\">\n",
       "  <thead>\n",
       "    <tr style=\"text-align: right;\">\n",
       "      <th>Pclass</th>\n",
       "      <th>1</th>\n",
       "      <th>2</th>\n",
       "      <th>3</th>\n",
       "    </tr>\n",
       "    <tr>\n",
       "      <th>Title</th>\n",
       "      <th></th>\n",
       "      <th></th>\n",
       "      <th></th>\n",
       "    </tr>\n",
       "  </thead>\n",
       "  <tbody>\n",
       "    <tr>\n",
       "      <th>Dr</th>\n",
       "      <td>6</td>\n",
       "      <td>2</td>\n",
       "      <td>0</td>\n",
       "    </tr>\n",
       "    <tr>\n",
       "      <th>Master</th>\n",
       "      <td>5</td>\n",
       "      <td>11</td>\n",
       "      <td>45</td>\n",
       "    </tr>\n",
       "    <tr>\n",
       "      <th>Miss</th>\n",
       "      <td>63</td>\n",
       "      <td>52</td>\n",
       "      <td>151</td>\n",
       "    </tr>\n",
       "    <tr>\n",
       "      <th>Mr</th>\n",
       "      <td>159</td>\n",
       "      <td>148</td>\n",
       "      <td>445</td>\n",
       "    </tr>\n",
       "    <tr>\n",
       "      <th>Mrs</th>\n",
       "      <td>77</td>\n",
       "      <td>55</td>\n",
       "      <td>65</td>\n",
       "    </tr>\n",
       "    <tr>\n",
       "      <th>Nobility</th>\n",
       "      <td>6</td>\n",
       "      <td>1</td>\n",
       "      <td>1</td>\n",
       "    </tr>\n",
       "    <tr>\n",
       "      <th>Others</th>\n",
       "      <td>7</td>\n",
       "      <td>0</td>\n",
       "      <td>2</td>\n",
       "    </tr>\n",
       "    <tr>\n",
       "      <th>Rev</th>\n",
       "      <td>0</td>\n",
       "      <td>8</td>\n",
       "      <td>0</td>\n",
       "    </tr>\n",
       "  </tbody>\n",
       "</table>\n",
       "</div>"
      ],
      "text/plain": [
       "Pclass      1    2    3\n",
       "Title                  \n",
       "Dr          6    2    0\n",
       "Master      5   11   45\n",
       "Miss       63   52  151\n",
       "Mr        159  148  445\n",
       "Mrs        77   55   65\n",
       "Nobility    6    1    1\n",
       "Others      7    0    2\n",
       "Rev         0    8    0"
      ]
     },
     "execution_count": 22,
     "metadata": {},
     "output_type": "execute_result"
    }
   ],
   "source": [
    "pd.crosstab(train['Title'], train['Pclass'])"
   ]
  },
  {
   "cell_type": "code",
   "execution_count": 23,
   "metadata": {},
   "outputs": [
    {
     "data": {
      "text/html": [
       "<div>\n",
       "<style scoped>\n",
       "    .dataframe tbody tr th:only-of-type {\n",
       "        vertical-align: middle;\n",
       "    }\n",
       "\n",
       "    .dataframe tbody tr th {\n",
       "        vertical-align: top;\n",
       "    }\n",
       "\n",
       "    .dataframe thead th {\n",
       "        text-align: right;\n",
       "    }\n",
       "</style>\n",
       "<table border=\"1\" class=\"dataframe\">\n",
       "  <thead>\n",
       "    <tr style=\"text-align: right;\">\n",
       "      <th>Pclass</th>\n",
       "      <th>1</th>\n",
       "      <th>2</th>\n",
       "      <th>3</th>\n",
       "    </tr>\n",
       "    <tr>\n",
       "      <th>Title</th>\n",
       "      <th></th>\n",
       "      <th></th>\n",
       "      <th></th>\n",
       "    </tr>\n",
       "  </thead>\n",
       "  <tbody>\n",
       "    <tr>\n",
       "      <th>Dr</th>\n",
       "      <td>1</td>\n",
       "      <td>0</td>\n",
       "      <td>0</td>\n",
       "    </tr>\n",
       "    <tr>\n",
       "      <th>Master</th>\n",
       "      <td>0</td>\n",
       "      <td>0</td>\n",
       "      <td>8</td>\n",
       "    </tr>\n",
       "    <tr>\n",
       "      <th>Miss</th>\n",
       "      <td>1</td>\n",
       "      <td>2</td>\n",
       "      <td>48</td>\n",
       "    </tr>\n",
       "    <tr>\n",
       "      <th>Mr</th>\n",
       "      <td>27</td>\n",
       "      <td>13</td>\n",
       "      <td>136</td>\n",
       "    </tr>\n",
       "    <tr>\n",
       "      <th>Mrs</th>\n",
       "      <td>10</td>\n",
       "      <td>1</td>\n",
       "      <td>16</td>\n",
       "    </tr>\n",
       "  </tbody>\n",
       "</table>\n",
       "</div>"
      ],
      "text/plain": [
       "Pclass   1   2    3\n",
       "Title              \n",
       "Dr       1   0    0\n",
       "Master   0   0    8\n",
       "Miss     1   2   48\n",
       "Mr      27  13  136\n",
       "Mrs     10   1   16"
      ]
     },
     "execution_count": 23,
     "metadata": {},
     "output_type": "execute_result"
    }
   ],
   "source": [
    "pd.crosstab(train[pd.isna(train['Age'])]['Title'], train[pd.isna(train['Age'])]['Pclass'])"
   ]
  },
  {
   "cell_type": "code",
   "execution_count": 24,
   "metadata": {},
   "outputs": [],
   "source": [
    "# Dr. 1st Class\n",
    "index = train[(train['Pclass'] == 1) & (train['Title'] == 'Dr') & pd.isna(train['Age'])].index\n",
    "train.loc[index, 'Age'] = np.nanmedian(train[(train['Pclass'] == 1) & (train['Title'] == 'Dr')]['Age'])\n",
    "# Master 3rd Class\n",
    "index = train[(train['Pclass'] == 3) & (train['Title'] == 'Master') & pd.isna(train['Age'])].index\n",
    "train.loc[index, 'Age'] = np.nanmedian(train[(train['Pclass'] == 3) & (train['Title'] == 'Master')]['Age'])\n",
    "# Miss 1st Class\n",
    "index = train[(train['Pclass'] == 1) & (train['Title'] == 'Miss') & pd.isna(train['Age'])].index\n",
    "train.loc[index, 'Age'] = np.nanmedian(train[(train['Pclass'] == 1) & (train['Title'] == 'Miss')]['Age'])\n",
    "# Miss 2nd Class\n",
    "index = train[(train['Pclass'] == 2) & (train['Title'] == 'Miss') & pd.isna(train['Age'])].index\n",
    "train.loc[index, 'Age'] = np.nanmedian(train[(train['Pclass'] == 2) & (train['Title'] == 'Miss')]['Age'])\n",
    "# Miss 3rd Class\n",
    "index = train[(train['Pclass'] == 3) & (train['Title'] == 'Miss') & pd.isna(train['Age'])].index\n",
    "train.loc[index, 'Age'] = np.nanmedian(train[(train['Pclass'] == 3) & (train['Title'] == 'Miss')]['Age'])\n",
    "# Mr 1st Class\n",
    "index = train[(train['Pclass'] == 1) & (train['Title'] == 'Mr') & pd.isna(train['Age'])].index\n",
    "train.loc[index, 'Age'] = np.nanmedian(train[(train['Pclass'] == 1) & (train['Title'] == 'Mr')]['Age'])\n",
    "# Mr 2nd Class\n",
    "index = train[(train['Pclass'] == 2) & (train['Title'] == 'Mr') & pd.isna(train['Age'])].index\n",
    "train.loc[index, 'Age'] = np.nanmedian(train[(train['Pclass'] == 2) & (train['Title'] == 'Mr')]['Age'])\n",
    "# Mr 3rd Class\n",
    "index = train[(train['Pclass'] == 3) & (train['Title'] == 'Mr') & pd.isna(train['Age'])].index\n",
    "train.loc[index, 'Age'] = np.nanmedian(train[(train['Pclass'] == 3) & (train['Title'] == 'Mr')]['Age'])\n",
    "# Mrs 1st Class\n",
    "index = train[(train['Pclass'] == 1) & (train['Title'] == 'Mrs') & pd.isna(train['Age'])].index\n",
    "train.loc[index, 'Age'] = np.nanmedian(train[(train['Pclass'] == 1) & (train['Title'] == 'Mrs')]['Age'])\n",
    "# Mrs 2nd Class\n",
    "index = train[(train['Pclass'] == 2) & (train['Title'] == 'Mrs') & pd.isna(train['Age'])].index\n",
    "train.loc[index, 'Age'] = np.nanmedian(train[(train['Pclass'] == 2) & (train['Title'] == 'Mrs')]['Age'])\n",
    "# Mrs 3rd Class\n",
    "index = train[(train['Pclass'] == 3) & (train['Title'] == 'Mrs') & pd.isna(train['Age'])].index\n",
    "train.loc[index, 'Age'] = np.nanmedian(train[(train['Pclass'] == 3) & (train['Title'] == 'Mrs')]['Age'])"
   ]
  },
  {
   "cell_type": "markdown",
   "metadata": {},
   "source": [
    "<h2>Fare</h2>\n",
    "\n",
    "Since there's only one NA in $Fare$ I assumed that there's no much to gain to put much effort in figuring out the best value to fill in this missing value. For this reason I filled it with the median value of this variable."
   ]
  },
  {
   "cell_type": "code",
   "execution_count": 25,
   "metadata": {},
   "outputs": [],
   "source": [
    "train['Fare'].fillna(np.nanmedian(train['Fare']), inplace = True)"
   ]
  },
  {
   "cell_type": "markdown",
   "metadata": {},
   "source": [
    "<h2>The Final Dataset</h2>\n",
    "\n",
    "Here I present again the stats of my dataset after all the NA's have been replaced with more adequate values.\n",
    "\n",
    "The only variables that still presents NA values are $Survived$ and $Cabin$. This is so because the final objective of this analysis is to predict the more adequate values to $Survived$ and I won't be using the variable $Cabin$ since I don't think it's worth it to fill in all the NA values in this variable given that they are more than 75% of it. Using this variable risks introducing some unwelcome bias in the analysis."
   ]
  },
  {
   "cell_type": "code",
   "execution_count": 26,
   "metadata": {},
   "outputs": [
    {
     "data": {
      "text/html": [
       "<div>\n",
       "<style scoped>\n",
       "    .dataframe tbody tr th:only-of-type {\n",
       "        vertical-align: middle;\n",
       "    }\n",
       "\n",
       "    .dataframe tbody tr th {\n",
       "        vertical-align: top;\n",
       "    }\n",
       "\n",
       "    .dataframe thead th {\n",
       "        text-align: right;\n",
       "    }\n",
       "</style>\n",
       "<table border=\"1\" class=\"dataframe\">\n",
       "  <thead>\n",
       "    <tr style=\"text-align: right;\">\n",
       "      <th></th>\n",
       "      <th>variable</th>\n",
       "      <th>count</th>\n",
       "      <th>NaN</th>\n",
       "      <th>unique_values</th>\n",
       "      <th>mode</th>\n",
       "      <th>mode_count</th>\n",
       "      <th>mean</th>\n",
       "      <th>std</th>\n",
       "      <th>min</th>\n",
       "      <th>25%</th>\n",
       "      <th>50%</th>\n",
       "      <th>75%</th>\n",
       "      <th>max</th>\n",
       "    </tr>\n",
       "  </thead>\n",
       "  <tbody>\n",
       "    <tr>\n",
       "      <th>0</th>\n",
       "      <td>PassengerId</td>\n",
       "      <td>1309.0</td>\n",
       "      <td>0.0</td>\n",
       "      <td>1309.0</td>\n",
       "      <td>1</td>\n",
       "      <td>1.0</td>\n",
       "      <td>655.000000</td>\n",
       "      <td>378.020061</td>\n",
       "      <td>1.00</td>\n",
       "      <td>328.0000</td>\n",
       "      <td>655.0000</td>\n",
       "      <td>982.000</td>\n",
       "      <td>1309.0000</td>\n",
       "    </tr>\n",
       "    <tr>\n",
       "      <th>1</th>\n",
       "      <td>Survived</td>\n",
       "      <td>891.0</td>\n",
       "      <td>418.0</td>\n",
       "      <td>2.0</td>\n",
       "      <td>0</td>\n",
       "      <td>549.0</td>\n",
       "      <td>0.383838</td>\n",
       "      <td>0.486592</td>\n",
       "      <td>0.00</td>\n",
       "      <td>0.0000</td>\n",
       "      <td>0.0000</td>\n",
       "      <td>1.000</td>\n",
       "      <td>1.0000</td>\n",
       "    </tr>\n",
       "    <tr>\n",
       "      <th>2</th>\n",
       "      <td>Pclass</td>\n",
       "      <td>1309.0</td>\n",
       "      <td>0.0</td>\n",
       "      <td>3.0</td>\n",
       "      <td>3</td>\n",
       "      <td>709.0</td>\n",
       "      <td>2.294882</td>\n",
       "      <td>0.837836</td>\n",
       "      <td>1.00</td>\n",
       "      <td>2.0000</td>\n",
       "      <td>3.0000</td>\n",
       "      <td>3.000</td>\n",
       "      <td>3.0000</td>\n",
       "    </tr>\n",
       "    <tr>\n",
       "      <th>3</th>\n",
       "      <td>Age</td>\n",
       "      <td>1309.0</td>\n",
       "      <td>0.0</td>\n",
       "      <td>92.0</td>\n",
       "      <td>26</td>\n",
       "      <td>215.0</td>\n",
       "      <td>28.770244</td>\n",
       "      <td>12.825334</td>\n",
       "      <td>0.42</td>\n",
       "      <td>21.0000</td>\n",
       "      <td>26.0000</td>\n",
       "      <td>36.000</td>\n",
       "      <td>80.0000</td>\n",
       "    </tr>\n",
       "    <tr>\n",
       "      <th>4</th>\n",
       "      <td>SibSp</td>\n",
       "      <td>1309.0</td>\n",
       "      <td>0.0</td>\n",
       "      <td>7.0</td>\n",
       "      <td>0</td>\n",
       "      <td>891.0</td>\n",
       "      <td>0.498854</td>\n",
       "      <td>1.041658</td>\n",
       "      <td>0.00</td>\n",
       "      <td>0.0000</td>\n",
       "      <td>0.0000</td>\n",
       "      <td>1.000</td>\n",
       "      <td>8.0000</td>\n",
       "    </tr>\n",
       "    <tr>\n",
       "      <th>5</th>\n",
       "      <td>Parch</td>\n",
       "      <td>1309.0</td>\n",
       "      <td>0.0</td>\n",
       "      <td>8.0</td>\n",
       "      <td>0</td>\n",
       "      <td>1002.0</td>\n",
       "      <td>0.385027</td>\n",
       "      <td>0.865560</td>\n",
       "      <td>0.00</td>\n",
       "      <td>0.0000</td>\n",
       "      <td>0.0000</td>\n",
       "      <td>0.000</td>\n",
       "      <td>9.0000</td>\n",
       "    </tr>\n",
       "    <tr>\n",
       "      <th>6</th>\n",
       "      <td>Fare</td>\n",
       "      <td>1309.0</td>\n",
       "      <td>0.0</td>\n",
       "      <td>281.0</td>\n",
       "      <td>8.05</td>\n",
       "      <td>60.0</td>\n",
       "      <td>33.281086</td>\n",
       "      <td>51.741500</td>\n",
       "      <td>0.00</td>\n",
       "      <td>7.8958</td>\n",
       "      <td>14.4542</td>\n",
       "      <td>31.275</td>\n",
       "      <td>512.3292</td>\n",
       "    </tr>\n",
       "    <tr>\n",
       "      <th>7</th>\n",
       "      <td>FamilySize</td>\n",
       "      <td>1309.0</td>\n",
       "      <td>0.0</td>\n",
       "      <td>9.0</td>\n",
       "      <td>1</td>\n",
       "      <td>790.0</td>\n",
       "      <td>1.883881</td>\n",
       "      <td>1.583639</td>\n",
       "      <td>1.00</td>\n",
       "      <td>1.0000</td>\n",
       "      <td>1.0000</td>\n",
       "      <td>2.000</td>\n",
       "      <td>11.0000</td>\n",
       "    </tr>\n",
       "    <tr>\n",
       "      <th>8</th>\n",
       "      <td>Female</td>\n",
       "      <td>1309.0</td>\n",
       "      <td>0.0</td>\n",
       "      <td>2.0</td>\n",
       "      <td>0</td>\n",
       "      <td>843.0</td>\n",
       "      <td>0.355997</td>\n",
       "      <td>0.478997</td>\n",
       "      <td>0.00</td>\n",
       "      <td>0.0000</td>\n",
       "      <td>0.0000</td>\n",
       "      <td>1.000</td>\n",
       "      <td>1.0000</td>\n",
       "    </tr>\n",
       "    <tr>\n",
       "      <th>9</th>\n",
       "      <td>1stClass</td>\n",
       "      <td>1309.0</td>\n",
       "      <td>0.0</td>\n",
       "      <td>2.0</td>\n",
       "      <td>0</td>\n",
       "      <td>986.0</td>\n",
       "      <td>0.246753</td>\n",
       "      <td>0.431287</td>\n",
       "      <td>0.00</td>\n",
       "      <td>0.0000</td>\n",
       "      <td>0.0000</td>\n",
       "      <td>0.000</td>\n",
       "      <td>1.0000</td>\n",
       "    </tr>\n",
       "    <tr>\n",
       "      <th>10</th>\n",
       "      <td>2ndClass</td>\n",
       "      <td>1309.0</td>\n",
       "      <td>0.0</td>\n",
       "      <td>2.0</td>\n",
       "      <td>0</td>\n",
       "      <td>1032.0</td>\n",
       "      <td>0.211612</td>\n",
       "      <td>0.408607</td>\n",
       "      <td>0.00</td>\n",
       "      <td>0.0000</td>\n",
       "      <td>0.0000</td>\n",
       "      <td>0.000</td>\n",
       "      <td>1.0000</td>\n",
       "    </tr>\n",
       "    <tr>\n",
       "      <th>11</th>\n",
       "      <td>3rdClass</td>\n",
       "      <td>1309.0</td>\n",
       "      <td>0.0</td>\n",
       "      <td>2.0</td>\n",
       "      <td>1</td>\n",
       "      <td>709.0</td>\n",
       "      <td>0.541635</td>\n",
       "      <td>0.498454</td>\n",
       "      <td>0.00</td>\n",
       "      <td>0.0000</td>\n",
       "      <td>1.0000</td>\n",
       "      <td>1.000</td>\n",
       "      <td>1.0000</td>\n",
       "    </tr>\n",
       "    <tr>\n",
       "      <th>12</th>\n",
       "      <td>Name</td>\n",
       "      <td>1309.0</td>\n",
       "      <td>0.0</td>\n",
       "      <td>1307.0</td>\n",
       "      <td>Connolly, Miss. Kate</td>\n",
       "      <td>2.0</td>\n",
       "      <td>NaN</td>\n",
       "      <td>NaN</td>\n",
       "      <td>NaN</td>\n",
       "      <td>NaN</td>\n",
       "      <td>NaN</td>\n",
       "      <td>NaN</td>\n",
       "      <td>NaN</td>\n",
       "    </tr>\n",
       "    <tr>\n",
       "      <th>13</th>\n",
       "      <td>Sex</td>\n",
       "      <td>1309.0</td>\n",
       "      <td>0.0</td>\n",
       "      <td>2.0</td>\n",
       "      <td>male</td>\n",
       "      <td>843.0</td>\n",
       "      <td>NaN</td>\n",
       "      <td>NaN</td>\n",
       "      <td>NaN</td>\n",
       "      <td>NaN</td>\n",
       "      <td>NaN</td>\n",
       "      <td>NaN</td>\n",
       "      <td>NaN</td>\n",
       "    </tr>\n",
       "    <tr>\n",
       "      <th>14</th>\n",
       "      <td>Ticket</td>\n",
       "      <td>1309.0</td>\n",
       "      <td>0.0</td>\n",
       "      <td>929.0</td>\n",
       "      <td>CA. 2343</td>\n",
       "      <td>11.0</td>\n",
       "      <td>NaN</td>\n",
       "      <td>NaN</td>\n",
       "      <td>NaN</td>\n",
       "      <td>NaN</td>\n",
       "      <td>NaN</td>\n",
       "      <td>NaN</td>\n",
       "      <td>NaN</td>\n",
       "    </tr>\n",
       "    <tr>\n",
       "      <th>15</th>\n",
       "      <td>Cabin</td>\n",
       "      <td>295.0</td>\n",
       "      <td>1014.0</td>\n",
       "      <td>186.0</td>\n",
       "      <td>C23 C25 C27</td>\n",
       "      <td>6.0</td>\n",
       "      <td>NaN</td>\n",
       "      <td>NaN</td>\n",
       "      <td>NaN</td>\n",
       "      <td>NaN</td>\n",
       "      <td>NaN</td>\n",
       "      <td>NaN</td>\n",
       "      <td>NaN</td>\n",
       "    </tr>\n",
       "    <tr>\n",
       "      <th>16</th>\n",
       "      <td>Embarked</td>\n",
       "      <td>1309.0</td>\n",
       "      <td>0.0</td>\n",
       "      <td>3.0</td>\n",
       "      <td>S</td>\n",
       "      <td>916.0</td>\n",
       "      <td>NaN</td>\n",
       "      <td>NaN</td>\n",
       "      <td>NaN</td>\n",
       "      <td>NaN</td>\n",
       "      <td>NaN</td>\n",
       "      <td>NaN</td>\n",
       "      <td>NaN</td>\n",
       "    </tr>\n",
       "    <tr>\n",
       "      <th>17</th>\n",
       "      <td>dataset</td>\n",
       "      <td>1309.0</td>\n",
       "      <td>0.0</td>\n",
       "      <td>2.0</td>\n",
       "      <td>train</td>\n",
       "      <td>891.0</td>\n",
       "      <td>NaN</td>\n",
       "      <td>NaN</td>\n",
       "      <td>NaN</td>\n",
       "      <td>NaN</td>\n",
       "      <td>NaN</td>\n",
       "      <td>NaN</td>\n",
       "      <td>NaN</td>\n",
       "    </tr>\n",
       "    <tr>\n",
       "      <th>18</th>\n",
       "      <td>Title</td>\n",
       "      <td>1309.0</td>\n",
       "      <td>0.0</td>\n",
       "      <td>8.0</td>\n",
       "      <td>Mr</td>\n",
       "      <td>752.0</td>\n",
       "      <td>NaN</td>\n",
       "      <td>NaN</td>\n",
       "      <td>NaN</td>\n",
       "      <td>NaN</td>\n",
       "      <td>NaN</td>\n",
       "      <td>NaN</td>\n",
       "      <td>NaN</td>\n",
       "    </tr>\n",
       "  </tbody>\n",
       "</table>\n",
       "</div>"
      ],
      "text/plain": [
       "       variable   count     NaN  unique_values                  mode  \\\n",
       "0   PassengerId  1309.0     0.0         1309.0                     1   \n",
       "1      Survived   891.0   418.0            2.0                     0   \n",
       "2        Pclass  1309.0     0.0            3.0                     3   \n",
       "3           Age  1309.0     0.0           92.0                    26   \n",
       "4         SibSp  1309.0     0.0            7.0                     0   \n",
       "5         Parch  1309.0     0.0            8.0                     0   \n",
       "6          Fare  1309.0     0.0          281.0                  8.05   \n",
       "7    FamilySize  1309.0     0.0            9.0                     1   \n",
       "8        Female  1309.0     0.0            2.0                     0   \n",
       "9      1stClass  1309.0     0.0            2.0                     0   \n",
       "10     2ndClass  1309.0     0.0            2.0                     0   \n",
       "11     3rdClass  1309.0     0.0            2.0                     1   \n",
       "12         Name  1309.0     0.0         1307.0  Connolly, Miss. Kate   \n",
       "13          Sex  1309.0     0.0            2.0                  male   \n",
       "14       Ticket  1309.0     0.0          929.0              CA. 2343   \n",
       "15        Cabin   295.0  1014.0          186.0           C23 C25 C27   \n",
       "16     Embarked  1309.0     0.0            3.0                     S   \n",
       "17      dataset  1309.0     0.0            2.0                 train   \n",
       "18        Title  1309.0     0.0            8.0                    Mr   \n",
       "\n",
       "    mode_count        mean         std   min       25%       50%      75%  \\\n",
       "0          1.0  655.000000  378.020061  1.00  328.0000  655.0000  982.000   \n",
       "1        549.0    0.383838    0.486592  0.00    0.0000    0.0000    1.000   \n",
       "2        709.0    2.294882    0.837836  1.00    2.0000    3.0000    3.000   \n",
       "3        215.0   28.770244   12.825334  0.42   21.0000   26.0000   36.000   \n",
       "4        891.0    0.498854    1.041658  0.00    0.0000    0.0000    1.000   \n",
       "5       1002.0    0.385027    0.865560  0.00    0.0000    0.0000    0.000   \n",
       "6         60.0   33.281086   51.741500  0.00    7.8958   14.4542   31.275   \n",
       "7        790.0    1.883881    1.583639  1.00    1.0000    1.0000    2.000   \n",
       "8        843.0    0.355997    0.478997  0.00    0.0000    0.0000    1.000   \n",
       "9        986.0    0.246753    0.431287  0.00    0.0000    0.0000    0.000   \n",
       "10      1032.0    0.211612    0.408607  0.00    0.0000    0.0000    0.000   \n",
       "11       709.0    0.541635    0.498454  0.00    0.0000    1.0000    1.000   \n",
       "12         2.0         NaN         NaN   NaN       NaN       NaN      NaN   \n",
       "13       843.0         NaN         NaN   NaN       NaN       NaN      NaN   \n",
       "14        11.0         NaN         NaN   NaN       NaN       NaN      NaN   \n",
       "15         6.0         NaN         NaN   NaN       NaN       NaN      NaN   \n",
       "16       916.0         NaN         NaN   NaN       NaN       NaN      NaN   \n",
       "17       891.0         NaN         NaN   NaN       NaN       NaN      NaN   \n",
       "18       752.0         NaN         NaN   NaN       NaN       NaN      NaN   \n",
       "\n",
       "          max  \n",
       "0   1309.0000  \n",
       "1      1.0000  \n",
       "2      3.0000  \n",
       "3     80.0000  \n",
       "4      8.0000  \n",
       "5      9.0000  \n",
       "6    512.3292  \n",
       "7     11.0000  \n",
       "8      1.0000  \n",
       "9      1.0000  \n",
       "10     1.0000  \n",
       "11     1.0000  \n",
       "12        NaN  \n",
       "13        NaN  \n",
       "14        NaN  \n",
       "15        NaN  \n",
       "16        NaN  \n",
       "17        NaN  \n",
       "18        NaN  "
      ]
     },
     "execution_count": 26,
     "metadata": {},
     "output_type": "execute_result"
    }
   ],
   "source": [
    "stats = train.describe().T\n",
    "for i in range(len(train.columns)):\n",
    "    stats.loc[train.columns[i], 'mode'], stats.loc[train.columns[i], 'mode_count'] = mode(train[train.columns[i]])\n",
    "    stats.loc[train.columns[i], 'unique_values'] = train[train.columns[i]].value_counts().size\n",
    "    stats.loc[train.columns[i], 'NaN'] = train[train.columns[i]].isnull().sum()\n",
    "    if np.isnan(stats.loc[train.columns[i], 'count']): \n",
    "        stats.loc[train.columns[i], 'count'] = train.shape[0] - stats.loc[train.columns[i], 'NaN']\n",
    "stats = stats[['count', 'NaN', 'unique_values', 'mode', 'mode_count', 'mean', 'std', 'min', '25%', '50%', '75%', 'max']]\n",
    "stats.index.name = 'variable'\n",
    "stats.reset_index(inplace = True)\n",
    "stats"
   ]
  },
  {
   "cell_type": "markdown",
   "metadata": {},
   "source": [
    "<h2>Dummy Variables</h2>\n",
    "\n",
    "I create here some dummy variables that are going to be used in the regression models presented below."
   ]
  },
  {
   "cell_type": "code",
   "execution_count": 27,
   "metadata": {},
   "outputs": [],
   "source": [
    "train['Alone'] = np.where(train['FamilySize'] == 1, 1, 0)\n",
    "train['Mr'] = np.where(train['Title'] == 'Mr', 1, 0)\n",
    "train['Mrs'] = np.where(train['Title'] == 'Mrs', 1, 0)\n",
    "train['Miss'] = np.where(train['Title'] == 'Miss', 1, 0)\n",
    "train['Master'] = np.where(train['Title'] == 'Master', 1, 0)\n",
    "train['female'] = np.where(train['Sex'] == 'female', 1, 0)\n",
    "train['1stClass'] = np.where(train['Pclass'] == 1, 1, 0)\n",
    "train['2ndClass'] = np.where(train['Pclass'] == 2, 1, 0)\n",
    "train['3rdClass'] = np.where(train['Pclass'] == 3, 1, 0)\n",
    "train['Embarked_S'] = np.where(train['Embarked'] == 'S', 1, 0)\n",
    "train['Embarked_C'] = np.where(train['Embarked'] == 'C', 1, 0)\n",
    "train['Embarked_Q'] = np.where(train['Embarked'] == 'Q', 1, 0)"
   ]
  },
  {
   "cell_type": "markdown",
   "metadata": {},
   "source": [
    "<h2>X_train, y_train and X_test</h2>\n",
    "\n",
    "Separate the dataset into X_train, y_train and X_test."
   ]
  },
  {
   "cell_type": "code",
   "execution_count": 28,
   "metadata": {},
   "outputs": [],
   "source": [
    "X_train = train[train['dataset'] == 'train'][['Age', 'SibSp', 'Parch', 'FamilySize', 'Alone', 'Fare', 'Embarked_S', 'Embarked_Q', 'Mr', 'Mrs', 'Miss', 'Master', 'female', '1stClass', '2ndClass']]\n",
    "scaler = StandardScaler().fit(X_train)\n",
    "X_train = scaler.transform(X_train)\n",
    "X_test = train[train['dataset'] == 'test'][['Age', 'SibSp', 'Parch', 'FamilySize', 'Alone', 'Fare', 'Embarked_S', 'Embarked_Q', 'Mr', 'Mrs', 'Miss', 'Master', 'female', '1stClass', '2ndClass']]\n",
    "X_test = scaler.transform(X_test)\n",
    "y_train = np.ravel(train[train['dataset'] == 'train'][['Survived']])"
   ]
  },
  {
   "cell_type": "markdown",
   "metadata": {},
   "source": [
    "<h1>Regression Models</h1>\n",
    "\n",
    "These are the Classification Models employed in this analysis:\n",
    "\n",
    "- 2.1 Logistic Regression\n",
    "- 2.2 Naïve Bayes\n",
    "- 2.3 Stochastic Gradient Descent\n",
    "- 2.4 K-Nearest Neighbours\n",
    "- 2.5 Support Vector Classifier\n",
    "- 2.6 Decision Tree\n",
    "- 2.7 Random Forest\n",
    "- 2.8 XGBoost Classifier\n",
    "- 2.9 LightGBM Classifier\n",
    "\n",
    "Below you can see the cross validation technique used to choose the more adequate parameters to fit the models to the data."
   ]
  },
  {
   "cell_type": "markdown",
   "metadata": {},
   "source": [
    "<h2>Logistic Regression</h2>"
   ]
  },
  {
   "cell_type": "code",
   "execution_count": 29,
   "metadata": {},
   "outputs": [
    {
     "name": "stdout",
     "output_type": "stream",
     "text": [
      "Fitting 10 folds for each of 96 candidates, totalling 960 fits\n"
     ]
    },
    {
     "name": "stderr",
     "output_type": "stream",
     "text": [
      "[Parallel(n_jobs=3)]: Using backend LokyBackend with 3 concurrent workers.\n",
      "[Parallel(n_jobs=3)]: Done  56 tasks      | elapsed:    2.1s\n"
     ]
    },
    {
     "name": "stdout",
     "output_type": "stream",
     "text": [
      "{'C': 0.03125, 'l1_ratio': 0.05, 'max_iter': 10000000.0, 'penalty': 'elasticnet', 'solver': 'saga'}\n"
     ]
    },
    {
     "name": "stderr",
     "output_type": "stream",
     "text": [
      "[Parallel(n_jobs=3)]: Done 960 out of 960 | elapsed:    8.2s finished\n"
     ]
    }
   ],
   "source": [
    "# define the grid search parameters\n",
    "parameters = {\n",
    "    'penalty': ['l2', 'elasticnet'],\n",
    "    'C': [1/128, 1/64, 1/32, 1/16, 1/8, 1/4, 1/2, 1],\n",
    "    'l1_ratio': [0.0, 0.05, 0.1],\n",
    "    'solver': ['liblinear', 'saga'],\n",
    "    'max_iter': [1e7]\n",
    "}\n",
    "\n",
    "logistic_clf = GridSearchCV(LogisticRegression(), parameters, scoring = 'f1',cv = kfolds, verbose = 2, n_jobs = 3)\n",
    "logistic_clf.fit(X_train, y_train)\n",
    "print(logistic_clf.best_params_)"
   ]
  },
  {
   "cell_type": "code",
   "execution_count": 30,
   "metadata": {},
   "outputs": [],
   "source": [
    "logistic = LogisticRegression(penalty = 'elasticnet', C = 1/32, l1_ratio = 0.05, max_iter = 1e7, solver = 'saga')"
   ]
  },
  {
   "cell_type": "markdown",
   "metadata": {},
   "source": [
    "<h2>Naive Bayes</h2>"
   ]
  },
  {
   "cell_type": "code",
   "execution_count": 31,
   "metadata": {},
   "outputs": [
    {
     "name": "stderr",
     "output_type": "stream",
     "text": [
      "[Parallel(n_jobs=3)]: Using backend LokyBackend with 3 concurrent workers.\n"
     ]
    },
    {
     "name": "stdout",
     "output_type": "stream",
     "text": [
      "Fitting 10 folds for each of 22 candidates, totalling 220 fits\n",
      "{'alpha': 1e-10}\n"
     ]
    },
    {
     "name": "stderr",
     "output_type": "stream",
     "text": [
      "[Parallel(n_jobs=3)]: Done 191 tasks      | elapsed:    0.4s\n",
      "[Parallel(n_jobs=3)]: Done 220 out of 220 | elapsed:    0.5s finished\n"
     ]
    }
   ],
   "source": [
    "# define the grid search parameters\n",
    "parameters = {\n",
    "    'alpha': [1e-10, 1e-5, 0.05, 0.1, 0.15, 0.2, 0.25, 0.3, 0.35, 0.4, 0.45, 0.5, 0.55, 0.6, 0.65, 0.7, 0.75, 0.8, 0.85, 0.9, 0.95, 1],\n",
    "}\n",
    "\n",
    "naiveBayes_clf = GridSearchCV(BernoulliNB(), parameters, scoring = 'f1',cv = kfolds, verbose = 2, n_jobs = 3)\n",
    "naiveBayes_clf.fit(X_train, y_train)\n",
    "print(naiveBayes_clf.best_params_)"
   ]
  },
  {
   "cell_type": "code",
   "execution_count": 32,
   "metadata": {},
   "outputs": [],
   "source": [
    "naiveBayes = BernoulliNB(alpha = 1e-10)"
   ]
  },
  {
   "cell_type": "markdown",
   "metadata": {},
   "source": [
    "<h2>Stochastic Gradient Descent</h2>"
   ]
  },
  {
   "cell_type": "code",
   "execution_count": 33,
   "metadata": {},
   "outputs": [
    {
     "name": "stdout",
     "output_type": "stream",
     "text": [
      "Fitting 10 folds for each of 14 candidates, totalling 140 fits\n"
     ]
    },
    {
     "name": "stderr",
     "output_type": "stream",
     "text": [
      "[Parallel(n_jobs=3)]: Using backend LokyBackend with 3 concurrent workers.\n"
     ]
    },
    {
     "name": "stdout",
     "output_type": "stream",
     "text": [
      "{'alpha': 0.1, 'early_stopping': True, 'loss': 'modified_huber', 'random_state': 2099}\n"
     ]
    },
    {
     "name": "stderr",
     "output_type": "stream",
     "text": [
      "[Parallel(n_jobs=3)]: Done 140 out of 140 | elapsed:    0.7s finished\n"
     ]
    }
   ],
   "source": [
    "# define the grid search parameters\n",
    "parameters = {\n",
    "    'loss': ['modified_huber', 'log'],\n",
    "    'alpha': [1e-6, 1e-5, 1e-4, 1e-3, 1e-2, 0.1, 1],\n",
    "    'random_state': [2099],\n",
    "    'early_stopping': [True]\n",
    "}\n",
    "\n",
    "sgd_clf = GridSearchCV(SGDClassifier(), parameters, scoring = 'f1',cv = kfolds, verbose = 2, n_jobs = 3)\n",
    "sgd_clf.fit(X_train, y_train)\n",
    "print(sgd_clf.best_params_)"
   ]
  },
  {
   "cell_type": "code",
   "execution_count": 34,
   "metadata": {},
   "outputs": [],
   "source": [
    "sgd = SGDClassifier(loss = 'modified_huber', alpha = 0.1, early_stopping = True, random_state = 2099)"
   ]
  },
  {
   "cell_type": "markdown",
   "metadata": {},
   "source": [
    "<h2>K-Nearest Neighbours</h2>"
   ]
  },
  {
   "cell_type": "code",
   "execution_count": 35,
   "metadata": {},
   "outputs": [
    {
     "name": "stderr",
     "output_type": "stream",
     "text": [
      "[Parallel(n_jobs=3)]: Using backend LokyBackend with 3 concurrent workers.\n"
     ]
    },
    {
     "name": "stdout",
     "output_type": "stream",
     "text": [
      "Fitting 10 folds for each of 8 candidates, totalling 80 fits\n",
      "{'n_neighbors': 17}\n"
     ]
    },
    {
     "name": "stderr",
     "output_type": "stream",
     "text": [
      "[Parallel(n_jobs=3)]: Done  80 out of  80 | elapsed:    0.5s finished\n"
     ]
    }
   ],
   "source": [
    "# define the grid search parameters\n",
    "parameters = {\n",
    "    'n_neighbors': [1, 5, 10, 15, 17, 19, 21, 23],\n",
    "}\n",
    "\n",
    "knn_clf = GridSearchCV(KNeighborsClassifier(), parameters, scoring = 'f1',cv = kfolds, verbose = 2, n_jobs = 3)\n",
    "knn_clf.fit(X_train, y_train)\n",
    "print(knn_clf.best_params_)"
   ]
  },
  {
   "cell_type": "code",
   "execution_count": 36,
   "metadata": {},
   "outputs": [],
   "source": [
    "knn = KNeighborsClassifier(n_neighbors = 17)"
   ]
  },
  {
   "cell_type": "markdown",
   "metadata": {},
   "source": [
    "<h2>Support Vector Classifier</h2>"
   ]
  },
  {
   "cell_type": "code",
   "execution_count": 37,
   "metadata": {},
   "outputs": [
    {
     "name": "stderr",
     "output_type": "stream",
     "text": [
      "[Parallel(n_jobs=3)]: Using backend LokyBackend with 3 concurrent workers.\n"
     ]
    },
    {
     "name": "stdout",
     "output_type": "stream",
     "text": [
      "Fitting 10 folds for each of 110 candidates, totalling 1100 fits\n"
     ]
    },
    {
     "name": "stderr",
     "output_type": "stream",
     "text": [
      "[Parallel(n_jobs=3)]: Done 110 tasks      | elapsed:    1.4s\n",
      "[Parallel(n_jobs=3)]: Done 594 tasks      | elapsed:    8.3s\n"
     ]
    },
    {
     "name": "stdout",
     "output_type": "stream",
     "text": [
      "{'C': 5, 'gamma': 0.01, 'kernel': 'rbf', 'random_state': 2099}\n"
     ]
    },
    {
     "name": "stderr",
     "output_type": "stream",
     "text": [
      "[Parallel(n_jobs=3)]: Done 1100 out of 1100 | elapsed:   16.5s finished\n"
     ]
    }
   ],
   "source": [
    "# define the grid search parameters\n",
    "parameters = {\n",
    "    'C': [1, 2, 3, 4, 5, 6, 7, 8, 9, 10],\n",
    "    'kernel': ['rbf'],\n",
    "    'gamma': [0.01, 0.02, 0.03, 0.04, 0.05, 0.06, 0.07, 0.08, 0.09, 0.1, 1],\n",
    "    'random_state': [2099]\n",
    "}\n",
    "\n",
    "svc_clf = GridSearchCV(SVC(), parameters, scoring = 'f1',cv = kfolds, verbose = 2, n_jobs = 3)\n",
    "svc_clf.fit(X_train, y_train)\n",
    "print(svc_clf.best_params_)"
   ]
  },
  {
   "cell_type": "code",
   "execution_count": 38,
   "metadata": {},
   "outputs": [],
   "source": [
    "svc = SVC(C = 5, gamma = 0.01, random_state = 2099)"
   ]
  },
  {
   "cell_type": "markdown",
   "metadata": {},
   "source": [
    "<h2>Decision Tree</h2>"
   ]
  },
  {
   "cell_type": "code",
   "execution_count": 39,
   "metadata": {},
   "outputs": [
    {
     "name": "stdout",
     "output_type": "stream",
     "text": [
      "Fitting 10 folds for each of 3150 candidates, totalling 31500 fits\n"
     ]
    },
    {
     "name": "stderr",
     "output_type": "stream",
     "text": [
      "[Parallel(n_jobs=3)]: Using backend LokyBackend with 3 concurrent workers.\n",
      "[Parallel(n_jobs=3)]: Done 346 tasks      | elapsed:    0.7s\n",
      "[Parallel(n_jobs=3)]: Done 4218 tasks      | elapsed:    8.4s\n",
      "[Parallel(n_jobs=3)]: Done 10714 tasks      | elapsed:   20.9s\n",
      "[Parallel(n_jobs=3)]: Done 19770 tasks      | elapsed:   37.5s\n",
      "[Parallel(n_jobs=3)]: Done 31419 tasks      | elapsed:   59.1s\n",
      "[Parallel(n_jobs=3)]: Done 31500 out of 31500 | elapsed:   59.2s finished\n"
     ]
    },
    {
     "name": "stdout",
     "output_type": "stream",
     "text": [
      "{'max_depth': 4, 'max_features': 'sqrt', 'max_leaf_nodes': 10, 'min_samples_leaf': 7, 'min_samples_split': 2, 'random_state': 2099}\n"
     ]
    }
   ],
   "source": [
    "# define the grid search parameters\n",
    "parameters = {\n",
    "    'max_depth': [2, 3, 4, 5, 6, 7, 8],\n",
    "    'min_samples_split': [2, 3, 4, 5, 6],\n",
    "    'min_samples_leaf': [2, 3, 4, 5, 6, 7, 8, 9, 10],\n",
    "    'max_features': ['sqrt'],\n",
    "    'max_leaf_nodes': [2, 4, 6, 8, 10, 12, 14, 16, 18, 20],\n",
    "    'random_state': [2099]\n",
    "}\n",
    "\n",
    "tree_clf = GridSearchCV(DecisionTreeClassifier(), parameters, scoring = 'f1',cv = kfolds, verbose = 2, n_jobs = 3)\n",
    "tree_clf.fit(X_train, y_train)\n",
    "print(tree_clf.best_params_)"
   ]
  },
  {
   "cell_type": "code",
   "execution_count": 40,
   "metadata": {},
   "outputs": [],
   "source": [
    "tree = DecisionTreeClassifier(max_depth = 4, min_samples_split = 2, min_samples_leaf = 7, max_features = 'sqrt', max_leaf_nodes = 10, random_state = 2099)"
   ]
  },
  {
   "cell_type": "markdown",
   "metadata": {},
   "source": [
    "<h2>Random Forest</h2>"
   ]
  },
  {
   "cell_type": "code",
   "execution_count": 41,
   "metadata": {},
   "outputs": [
    {
     "name": "stdout",
     "output_type": "stream",
     "text": [
      "Fitting 10 folds for each of 360 candidates, totalling 3600 fits\n"
     ]
    },
    {
     "name": "stderr",
     "output_type": "stream",
     "text": [
      "[Parallel(n_jobs=3)]: Using backend LokyBackend with 3 concurrent workers.\n",
      "[Parallel(n_jobs=3)]: Done  64 tasks      | elapsed:    6.4s\n",
      "[Parallel(n_jobs=3)]: Done 306 tasks      | elapsed:   29.6s\n",
      "[Parallel(n_jobs=3)]: Done 527 tasks      | elapsed:   53.2s\n",
      "[Parallel(n_jobs=3)]: Done 810 tasks      | elapsed:  1.3min\n",
      "[Parallel(n_jobs=3)]: Done 1175 tasks      | elapsed:  1.9min\n",
      "[Parallel(n_jobs=3)]: Done 1620 tasks      | elapsed:  2.7min\n",
      "[Parallel(n_jobs=3)]: Done 2147 tasks      | elapsed:  3.6min\n",
      "[Parallel(n_jobs=3)]: Done 2754 tasks      | elapsed:  4.6min\n",
      "[Parallel(n_jobs=3)]: Done 3443 tasks      | elapsed:  5.8min\n",
      "[Parallel(n_jobs=3)]: Done 3600 out of 3600 | elapsed:  6.0min finished\n"
     ]
    },
    {
     "name": "stdout",
     "output_type": "stream",
     "text": [
      "{'max_depth': 8, 'max_features': 'sqrt', 'max_leaf_nodes': 18, 'max_samples': 0.7, 'min_samples_leaf': 6, 'min_samples_split': 2, 'n_estimators': 100, 'oob_score': True, 'random_state': 2099}\n"
     ]
    }
   ],
   "source": [
    "# define the grid search parameters\n",
    "parameters = {\n",
    "    'n_estimators': [100],\n",
    "    'max_depth': [2, 4, 8, 16, 24, 32],\n",
    "    'min_samples_split': [1, 2, 4],\n",
    "    'min_samples_leaf': [1, 2, 4, 6, 8],\n",
    "    'max_features': ['sqrt'],\n",
    "    'max_leaf_nodes': [18, 24, 32, 36],\n",
    "    'max_samples': [0.7],\n",
    "    'oob_score': [True],\n",
    "    'random_state': [2099]\n",
    "}\n",
    "\n",
    "randomforest_clf = GridSearchCV(RandomForestClassifier(), parameters, scoring = 'f1',cv = kfolds, verbose = 2, n_jobs = 3)\n",
    "randomforest_clf.fit(X_train, y_train)\n",
    "print(randomforest_clf.best_params_)"
   ]
  },
  {
   "cell_type": "code",
   "execution_count": 42,
   "metadata": {},
   "outputs": [],
   "source": [
    "randomforest = RandomForestClassifier(n_estimators = 1000, max_depth = 8, min_samples_split = 2, min_samples_leaf = 6, max_features = 'sqrt', max_leaf_nodes = 18, max_samples = 0.7, oob_score = True, random_state = 2099)"
   ]
  },
  {
   "cell_type": "markdown",
   "metadata": {},
   "source": [
    "<h2>XGBoost Classifier</h2>"
   ]
  },
  {
   "cell_type": "code",
   "execution_count": 43,
   "metadata": {},
   "outputs": [
    {
     "name": "stdout",
     "output_type": "stream",
     "text": [
      "Fitting 10 folds for each of 2400 candidates, totalling 24000 fits\n"
     ]
    },
    {
     "name": "stderr",
     "output_type": "stream",
     "text": [
      "[Parallel(n_jobs=3)]: Using backend LokyBackend with 3 concurrent workers.\n",
      "[Parallel(n_jobs=3)]: Done  43 tasks      | elapsed:    2.0s\n",
      "[Parallel(n_jobs=3)]: Done 285 tasks      | elapsed:   17.5s\n",
      "[Parallel(n_jobs=3)]: Done 691 tasks      | elapsed:   44.5s\n",
      "[Parallel(n_jobs=3)]: Done 1257 tasks      | elapsed:  1.4min\n",
      "[Parallel(n_jobs=3)]: Done 1987 tasks      | elapsed:  2.2min\n",
      "[Parallel(n_jobs=3)]: Done 2877 tasks      | elapsed:  3.2min\n",
      "[Parallel(n_jobs=3)]: Done 3781 tasks      | elapsed:  4.3min\n",
      "[Parallel(n_jobs=3)]: Done 4458 tasks      | elapsed:  5.3min\n",
      "[Parallel(n_jobs=3)]: Done 5417 tasks      | elapsed:  6.7min\n",
      "[Parallel(n_jobs=3)]: Done 6591 tasks      | elapsed:  8.3min\n",
      "[Parallel(n_jobs=3)]: Done 7861 tasks      | elapsed:  9.9min\n",
      "[Parallel(n_jobs=3)]: Done 9240 tasks      | elapsed: 11.8min\n",
      "[Parallel(n_jobs=3)]: Done 10565 tasks      | elapsed: 13.9min\n",
      "[Parallel(n_jobs=3)]: Done 12492 tasks      | elapsed: 16.7min\n",
      "[Parallel(n_jobs=3)]: Done 14620 tasks      | elapsed: 19.5min\n",
      "[Parallel(n_jobs=3)]: Done 16947 tasks      | elapsed: 22.6min\n",
      "[Parallel(n_jobs=3)]: Done 19004 tasks      | elapsed: 25.5min\n",
      "[Parallel(n_jobs=3)]: Done 20547 tasks      | elapsed: 28.3min\n",
      "[Parallel(n_jobs=3)]: Done 22549 tasks      | elapsed: 31.4min\n",
      "[Parallel(n_jobs=3)]: Done 24000 out of 24000 | elapsed: 33.6min finished\n"
     ]
    },
    {
     "name": "stdout",
     "output_type": "stream",
     "text": [
      "{'colsample_bytree': 0.7, 'gamma': 1, 'learning_rate': 0.01, 'max_depth': 16, 'min_child_weight': 0, 'random_state': 2099, 'subsample': 1}\n"
     ]
    }
   ],
   "source": [
    "# define the grid search parameters\n",
    "parameters = {\n",
    "    'colsample_bytree': [.7, .825, .9, .95],\n",
    "    'gamma': [0, .5, 1], \n",
    "    'learning_rate': [1e-3, 2e-3, 1e-2, .1], \n",
    "    'max_depth': [2, 4, 8, 16, 32], \n",
    "    'min_child_weight': [0, 1, 2, 4, 6], \n",
    "    'subsample': [.75, 1],\n",
    "    'random_state': [2099]\n",
    "}\n",
    "\n",
    "xgboost_clf = GridSearchCV(XGBClassifier(), parameters, scoring = 'f1',cv = kfolds, verbose = 2, n_jobs = 3)\n",
    "xgboost_clf.fit(X_train, y_train)\n",
    "print(xgboost_clf.best_params_)"
   ]
  },
  {
   "cell_type": "code",
   "execution_count": 44,
   "metadata": {
    "scrolled": true
   },
   "outputs": [
    {
     "name": "stdout",
     "output_type": "stream",
     "text": [
      "Fitting 10 folds for each of 224 candidates, totalling 2240 fits\n"
     ]
    },
    {
     "name": "stderr",
     "output_type": "stream",
     "text": [
      "[Parallel(n_jobs=3)]: Using backend LokyBackend with 3 concurrent workers.\n",
      "[Parallel(n_jobs=3)]: Done  35 tasks      | elapsed:    4.7s\n",
      "[Parallel(n_jobs=3)]: Done 156 tasks      | elapsed:   22.2s\n",
      "[Parallel(n_jobs=3)]: Done 359 tasks      | elapsed:   50.7s\n",
      "[Parallel(n_jobs=3)]: Done 642 tasks      | elapsed:  1.4min\n",
      "[Parallel(n_jobs=3)]: Done 1007 tasks      | elapsed:  2.1min\n",
      "[Parallel(n_jobs=3)]: Done 1452 tasks      | elapsed:  2.9min\n",
      "[Parallel(n_jobs=3)]: Done 1979 tasks      | elapsed:  3.9min\n",
      "[Parallel(n_jobs=3)]: Done 2240 out of 2240 | elapsed:  4.5min finished\n"
     ]
    },
    {
     "name": "stdout",
     "output_type": "stream",
     "text": [
      "{'colsample_bytree': 0.7, 'gamma': 1, 'learning_rate': 0.01, 'max_depth': 11, 'min_child_weight': 0, 'random_state': 2099, 'subsample': 1}\n"
     ]
    }
   ],
   "source": [
    "# define the grid search parameters\n",
    "parameters = {\n",
    "    'colsample_bytree': [.7, .75],\n",
    "    'gamma': [.5, 1, 1.5, 2], \n",
    "    'learning_rate': [1e-2, .1], \n",
    "    'max_depth': [9, 10, 11, 12, 13, 14, 15],\n",
    "    'min_child_weight': [0, 1], \n",
    "    'subsample': [1],\n",
    "    'random_state': [2099]\n",
    "}\n",
    "\n",
    "xgboost_clf = GridSearchCV(XGBClassifier(), parameters, scoring = 'f1',cv = kfolds, verbose = 2, n_jobs = 3)\n",
    "xgboost_clf.fit(X_train, y_train)\n",
    "print(xgboost_clf.best_params_)"
   ]
  },
  {
   "cell_type": "code",
   "execution_count": 45,
   "metadata": {},
   "outputs": [],
   "source": [
    "xgboost = XGBClassifier(colsample_bytree = 0.7, gamma = 1, learning_rate = 0.01, max_depth = 11, min_child_weight = 0, n_estimators = 1000, subsample = 1, random_state = 2099)"
   ]
  },
  {
   "cell_type": "markdown",
   "metadata": {},
   "source": [
    "<h2>LightGBM Classifier</h2>"
   ]
  },
  {
   "cell_type": "code",
   "execution_count": 46,
   "metadata": {},
   "outputs": [
    {
     "name": "stdout",
     "output_type": "stream",
     "text": [
      "Fitting 10 folds for each of 480 candidates, totalling 4800 fits\n"
     ]
    },
    {
     "name": "stderr",
     "output_type": "stream",
     "text": [
      "[Parallel(n_jobs=3)]: Using backend LokyBackend with 3 concurrent workers.\n",
      "[Parallel(n_jobs=3)]: Done  83 tasks      | elapsed:    1.3s\n",
      "[Parallel(n_jobs=3)]: Done 567 tasks      | elapsed:    9.5s\n",
      "[Parallel(n_jobs=3)]: Done 1379 tasks      | elapsed:   25.7s\n",
      "[Parallel(n_jobs=3)]: Done 2511 tasks      | elapsed:   46.0s\n",
      "[Parallel(n_jobs=3)]: Done 3971 tasks      | elapsed:  1.2min\n"
     ]
    },
    {
     "name": "stdout",
     "output_type": "stream",
     "text": [
      "{'boosting_type': 'gbdt', 'colsample_bytree': 1, 'learning_rate': 0.1, 'max_depth': 4, 'min_child_weight': 0.01, 'num_leaves': 6, 'objective': 'binary', 'random_state': 2099}\n"
     ]
    },
    {
     "name": "stderr",
     "output_type": "stream",
     "text": [
      "[Parallel(n_jobs=3)]: Done 4800 out of 4800 | elapsed:  1.5min finished\n"
     ]
    }
   ],
   "source": [
    "# define the grid search parameters\n",
    "parameters = {\n",
    "    'boosting_type': ['gbdt'],\n",
    "    'num_leaves': [2, 4, 6, 8, 10, 12, 16, 20], \n",
    "    'learning_rate': [.001, .01, .1], \n",
    "    'max_depth': [2, 4, 8, 10, 12], \n",
    "    'min_child_weight': [0.01, 0.1, 1, 2], \n",
    "    'colsample_bytree': [1],\n",
    "    'objective': ['binary'],\n",
    "    'random_state': [2099]\n",
    "}\n",
    "\n",
    "lgbm_clf = GridSearchCV(LGBMClassifier(), parameters, scoring = 'f1',cv = kfolds, verbose = 2, n_jobs = 3)\n",
    "lgbm_clf.fit(X_train, y_train)\n",
    "print(lgbm_clf.best_params_)"
   ]
  },
  {
   "cell_type": "code",
   "execution_count": 47,
   "metadata": {},
   "outputs": [],
   "source": [
    "lgbm = LGBMClassifier(colsample_bytree = 1, learning_rate = 0.1, max_depth = 4, min_child_weight = 0.01, num_leaves = 6, objective = 'binary', random_state = 2099)"
   ]
  },
  {
   "cell_type": "markdown",
   "metadata": {},
   "source": [
    "<h2>Stacking</h2>\n",
    "\n",
    "I stack all the predictors to make use of a meta classifier."
   ]
  },
  {
   "cell_type": "code",
   "execution_count": 48,
   "metadata": {},
   "outputs": [],
   "source": [
    "logistic = LogisticRegression(penalty = 'elasticnet', C = 1/32, l1_ratio = 0.05, max_iter = 1e7, solver = 'saga')\n",
    "naiveBayes = BernoulliNB(alpha = 1e-10)\n",
    "sgd = SGDClassifier(loss = 'modified_huber', alpha = 0.1, early_stopping = True, random_state = 2099)\n",
    "knn = KNeighborsClassifier(n_neighbors = 17)\n",
    "svc = SVC(C = 5, gamma = 0.01, random_state = 2099)\n",
    "tree = DecisionTreeClassifier(max_depth = 4, min_samples_split = 2, min_samples_leaf = 7, max_features = 'sqrt', max_leaf_nodes = 10, random_state = 2099)\n",
    "randomforest = RandomForestClassifier(n_estimators = 1000, max_depth = 8, min_samples_split = 2, min_samples_leaf = 6, max_features = 'sqrt', max_leaf_nodes = 18, max_samples = 0.7, oob_score = True, random_state = 2099)\n",
    "xgboost = XGBClassifier(colsample_bytree = 0.7, gamma = 1, learning_rate = 0.01, max_depth = 11, min_child_weight = 0, n_estimators = 1000, subsample = 1, random_state = 2099)\n",
    "lgbm = LGBMClassifier(colsample_bytree = 1, learning_rate = 0.1, max_depth = 4, min_child_weight = 0.01, num_leaves = 6, objective = 'binary', random_state = 2099)"
   ]
  },
  {
   "cell_type": "code",
   "execution_count": 49,
   "metadata": {
    "scrolled": false
   },
   "outputs": [
    {
     "name": "stdout",
     "output_type": "stream",
     "text": [
      "task:         [classification]\n",
      "n_classes:    [2]\n",
      "metric:       [f1_score]\n",
      "mode:         [oof_pred_bag]\n",
      "n_models:     [9]\n",
      "\n",
      "model  0:     [LogisticRegression]\n",
      "    fold  0:  [0.75000000]\n",
      "    fold  1:  [0.77611940]\n",
      "    fold  2:  [0.71875000]\n",
      "    fold  3:  [0.81159420]\n",
      "    fold  4:  [0.73015873]\n",
      "    fold  5:  [0.81159420]\n",
      "    fold  6:  [0.80000000]\n",
      "    fold  7:  [0.81355932]\n",
      "    fold  8:  [0.71875000]\n",
      "    fold  9:  [0.81632653]\n",
      "    ----\n",
      "    MEAN:     [0.77468524] + [0.03932188]\n",
      "    FULL:     [0.77341390]\n",
      "\n",
      "model  1:     [BernoulliNB]\n",
      "    fold  0:  [0.77083333]\n",
      "    fold  1:  [0.71232877]\n",
      "    fold  2:  [0.69565217]\n",
      "    fold  3:  [0.80555556]\n",
      "    fold  4:  [0.65671642]\n",
      "    fold  5:  [0.80000000]\n",
      "    fold  6:  [0.77922078]\n",
      "    fold  7:  [0.72727273]\n",
      "    fold  8:  [0.65714286]\n",
      "    fold  9:  [0.71428571]\n",
      "    ----\n",
      "    MEAN:     [0.73190083] + [0.05204577]\n",
      "    FULL:     [0.73509015]\n",
      "\n",
      "model  2:     [SGDClassifier]\n",
      "    fold  0:  [0.74418605]\n",
      "    fold  1:  [0.75757576]\n",
      "    fold  2:  [0.71875000]\n",
      "    fold  3:  [0.82352941]\n",
      "    fold  4:  [0.73015873]\n",
      "    fold  5:  [0.81159420]\n",
      "    fold  6:  [0.80000000]\n",
      "    fold  7:  [0.79310345]\n",
      "    fold  8:  [0.72131148]\n",
      "    fold  9:  [0.81632653]\n",
      "    ----\n",
      "    MEAN:     [0.77165356] + [0.03943759]\n",
      "    FULL:     [0.77064220]\n",
      "\n",
      "model  3:     [KNeighborsClassifier]\n",
      "    fold  0:  [0.77108434]\n",
      "    fold  1:  [0.72727273]\n",
      "    fold  2:  [0.69696970]\n",
      "    fold  3:  [0.83582090]\n",
      "    fold  4:  [0.70967742]\n",
      "    fold  5:  [0.75757576]\n",
      "    fold  6:  [0.78260870]\n",
      "    fold  7:  [0.80701754]\n",
      "    fold  8:  [0.70175439]\n",
      "    fold  9:  [0.73913043]\n",
      "    ----\n",
      "    MEAN:     [0.75289119] + [0.04415693]\n",
      "    FULL:     [0.75430360]\n",
      "\n",
      "model  4:     [SVC]\n",
      "    fold  0:  [0.76190476]\n",
      "    fold  1:  [0.77611940]\n",
      "    fold  2:  [0.71875000]\n",
      "    fold  3:  [0.81159420]\n",
      "    fold  4:  [0.73015873]\n",
      "    fold  5:  [0.81159420]\n",
      "    fold  6:  [0.80000000]\n",
      "    fold  7:  [0.79310345]\n",
      "    fold  8:  [0.77966102]\n",
      "    fold  9:  [0.81632653]\n",
      "    ----\n",
      "    MEAN:     [0.77992123] + [0.03235115]\n",
      "    FULL:     [0.77914110]\n",
      "\n",
      "model  5:     [DecisionTreeClassifier]\n",
      "    fold  0:  [0.77777778]\n",
      "    fold  1:  [0.77142857]\n",
      "    fold  2:  [0.70769231]\n",
      "    fold  3:  [0.81159420]\n",
      "    fold  4:  [0.68750000]\n",
      "    fold  5:  [0.81159420]\n",
      "    fold  6:  [0.78873239]\n",
      "    fold  7:  [0.78688525]\n",
      "    fold  8:  [0.71875000]\n",
      "    fold  9:  [0.79166667]\n",
      "    ----\n",
      "    MEAN:     [0.76536214] + [0.04210476]\n",
      "    FULL:     [0.76602086]\n",
      "\n",
      "model  6:     [RandomForestClassifier]\n",
      "    fold  0:  [0.76190476]\n",
      "    fold  1:  [0.75757576]\n",
      "    fold  2:  [0.71875000]\n",
      "    fold  3:  [0.81159420]\n",
      "    fold  4:  [0.69841270]\n",
      "    fold  5:  [0.79411765]\n",
      "    fold  6:  [0.81690141]\n",
      "    fold  7:  [0.81355932]\n",
      "    fold  8:  [0.70769231]\n",
      "    fold  9:  [0.81632653]\n",
      "    ----\n",
      "    MEAN:     [0.76968346] + [0.04517465]\n",
      "    FULL:     [0.76899696]\n",
      "\n",
      "model  7:     [XGBClassifier]\n",
      "    fold  0:  [0.77272727]\n",
      "    fold  1:  [0.74626866]\n",
      "    fold  2:  [0.80645161]\n",
      "    fold  3:  [0.81818182]\n",
      "    fold  4:  [0.73015873]\n",
      "    fold  5:  [0.76470588]\n",
      "    fold  6:  [0.84057971]\n",
      "    fold  7:  [0.80000000]\n",
      "    fold  8:  [0.73333333]\n",
      "    fold  9:  [0.72340426]\n",
      "    ----\n",
      "    MEAN:     [0.77358113] + [0.03886520]\n",
      "    FULL:     [0.77538462]\n",
      "\n",
      "model  8:     [LGBMClassifier]\n",
      "    fold  0:  [0.77647059]\n",
      "    fold  1:  [0.74626866]\n",
      "    fold  2:  [0.73333333]\n",
      "    fold  3:  [0.84848485]\n",
      "    fold  4:  [0.72131148]\n",
      "    fold  5:  [0.77142857]\n",
      "    fold  6:  [0.79411765]\n",
      "    fold  7:  [0.81967213]\n",
      "    fold  8:  [0.75862069]\n",
      "    fold  9:  [0.73913043]\n",
      "    ----\n",
      "    MEAN:     [0.77088384] + [0.03821723]\n",
      "    FULL:     [0.77258567]\n",
      "\n"
     ]
    }
   ],
   "source": [
    "models = [logistic, naiveBayes, sgd, knn, svc, tree, randomforest, xgboost, lgbm]\n",
    "\n",
    "S_train, S_test = stacking(models, X_train, y_train, X_test, regression = False, mode = 'oof_pred_bag', \n",
    "                           needs_proba = False, save_dir = None, metric = f1_score, \n",
    "                           n_folds = 10, stratified = False, shuffle = True, random_state = 2099, verbose=2)"
   ]
  },
  {
   "cell_type": "markdown",
   "metadata": {},
   "source": [
    "My meta classifier is a simple majority vote algorithm: if most of my predictors predict the person survived, the algorithm also predicts it. Otherwise it predicts the person didn't survive.\n",
    "\n",
    "I chose to use a majority voting algorithm as a meta classifier because it's recommended to use a simple algorithm to make the final prediction after using stacking techniques."
   ]
  },
  {
   "cell_type": "code",
   "execution_count": 50,
   "metadata": {},
   "outputs": [],
   "source": [
    "model = VotingClassifier(estimators=[('logistic', logistic), ('naiveBayes', naiveBayes), ('sgd', sgd),\n",
    "                                     ('knn', knn), ('svc', svc), ('tree', tree), ('randomforest', randomforest),\n",
    "                                     ('xgboost', xgboost), ('lgbm', lgbm)], voting = 'hard')\n",
    "model = model.fit(S_train, y_train)\n",
    "y_pred = model.predict(S_test)"
   ]
  },
  {
   "cell_type": "code",
   "execution_count": 51,
   "metadata": {},
   "outputs": [],
   "source": [
    "test['Survived'] = y_pred.astype(int)\n",
    "submission = test[['PassengerId', 'Survived']]"
   ]
  },
  {
   "cell_type": "code",
   "execution_count": 52,
   "metadata": {},
   "outputs": [
    {
     "data": {
      "text/html": [
       "<div>\n",
       "<style scoped>\n",
       "    .dataframe tbody tr th:only-of-type {\n",
       "        vertical-align: middle;\n",
       "    }\n",
       "\n",
       "    .dataframe tbody tr th {\n",
       "        vertical-align: top;\n",
       "    }\n",
       "\n",
       "    .dataframe thead th {\n",
       "        text-align: right;\n",
       "    }\n",
       "</style>\n",
       "<table border=\"1\" class=\"dataframe\">\n",
       "  <thead>\n",
       "    <tr style=\"text-align: right;\">\n",
       "      <th></th>\n",
       "      <th>PassengerId</th>\n",
       "      <th>Survived</th>\n",
       "    </tr>\n",
       "  </thead>\n",
       "  <tbody>\n",
       "    <tr>\n",
       "      <th>0</th>\n",
       "      <td>892</td>\n",
       "      <td>0</td>\n",
       "    </tr>\n",
       "    <tr>\n",
       "      <th>1</th>\n",
       "      <td>893</td>\n",
       "      <td>0</td>\n",
       "    </tr>\n",
       "    <tr>\n",
       "      <th>2</th>\n",
       "      <td>894</td>\n",
       "      <td>0</td>\n",
       "    </tr>\n",
       "    <tr>\n",
       "      <th>3</th>\n",
       "      <td>895</td>\n",
       "      <td>0</td>\n",
       "    </tr>\n",
       "    <tr>\n",
       "      <th>4</th>\n",
       "      <td>896</td>\n",
       "      <td>1</td>\n",
       "    </tr>\n",
       "    <tr>\n",
       "      <th>...</th>\n",
       "      <td>...</td>\n",
       "      <td>...</td>\n",
       "    </tr>\n",
       "    <tr>\n",
       "      <th>413</th>\n",
       "      <td>1305</td>\n",
       "      <td>0</td>\n",
       "    </tr>\n",
       "    <tr>\n",
       "      <th>414</th>\n",
       "      <td>1306</td>\n",
       "      <td>1</td>\n",
       "    </tr>\n",
       "    <tr>\n",
       "      <th>415</th>\n",
       "      <td>1307</td>\n",
       "      <td>0</td>\n",
       "    </tr>\n",
       "    <tr>\n",
       "      <th>416</th>\n",
       "      <td>1308</td>\n",
       "      <td>0</td>\n",
       "    </tr>\n",
       "    <tr>\n",
       "      <th>417</th>\n",
       "      <td>1309</td>\n",
       "      <td>1</td>\n",
       "    </tr>\n",
       "  </tbody>\n",
       "</table>\n",
       "<p>418 rows × 2 columns</p>\n",
       "</div>"
      ],
      "text/plain": [
       "     PassengerId  Survived\n",
       "0            892         0\n",
       "1            893         0\n",
       "2            894         0\n",
       "3            895         0\n",
       "4            896         1\n",
       "..           ...       ...\n",
       "413         1305         0\n",
       "414         1306         1\n",
       "415         1307         0\n",
       "416         1308         0\n",
       "417         1309         1\n",
       "\n",
       "[418 rows x 2 columns]"
      ]
     },
     "execution_count": 52,
     "metadata": {},
     "output_type": "execute_result"
    }
   ],
   "source": [
    "submission"
   ]
  },
  {
   "cell_type": "code",
   "execution_count": 53,
   "metadata": {},
   "outputs": [],
   "source": [
    "submission.to_csv('TitanicPaulopcplNotebook.csv', index = False)"
   ]
  }
 ],
 "metadata": {
  "kernelspec": {
   "display_name": "Python 3",
   "language": "python",
   "name": "python3"
  },
  "language_info": {
   "codemirror_mode": {
    "name": "ipython",
    "version": 3
   },
   "file_extension": ".py",
   "mimetype": "text/x-python",
   "name": "python",
   "nbconvert_exporter": "python",
   "pygments_lexer": "ipython3",
   "version": "3.7.6"
  }
 },
 "nbformat": 4,
 "nbformat_minor": 2
}
